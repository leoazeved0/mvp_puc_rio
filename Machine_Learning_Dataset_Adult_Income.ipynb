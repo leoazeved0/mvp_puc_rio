{
  "nbformat": 4,
  "nbformat_minor": 0,
  "metadata": {
    "colab": {
      "provenance": [],
      "collapsed_sections": [
        "Gp_3zEMYAkR0",
        "EQdQdFkvZXeG",
        "NtLuVrWFDiQK",
        "7T__zF5ZZyXD",
        "-WyKjOcN_gjs",
        "vte6rdl5azGv",
        "uALsOh433475",
        "TceuV51IB1kC",
        "KOUpm9iZ2GnK",
        "Zh3DcflA8Hyd",
        "xf9MLPbVVhAD"
      ],
      "authorship_tag": "ABX9TyMpcG24NmJHJu2n3aGegtQs",
      "include_colab_link": true
    },
    "kernelspec": {
      "name": "python3",
      "display_name": "Python 3"
    },
    "language_info": {
      "name": "python"
    }
  },
  "cells": [
    {
      "cell_type": "markdown",
      "metadata": {
        "id": "view-in-github",
        "colab_type": "text"
      },
      "source": [
        "<a href=\"https://colab.research.google.com/github/leoazeved0/mvp_puc_rio/blob/main/Machine_Learning_Dataset_Adult_Income.ipynb\" target=\"_parent\"><img src=\"https://colab.research.google.com/assets/colab-badge.svg\" alt=\"Open In Colab\"/></a>"
      ]
    },
    {
      "cell_type": "markdown",
      "source": [],
      "metadata": {
        "id": "lcDqtU0gesXc"
      }
    },
    {
      "cell_type": "markdown",
      "source": [
        "**MVP PUC - Machine Learning - Sprint 2**"
      ],
      "metadata": {
        "id": "jqNJD3R8epjr"
      }
    },
    {
      "cell_type": "markdown",
      "source": [
        "##**1 - Introdução**"
      ],
      "metadata": {
        "id": "Gp_3zEMYAkR0"
      }
    },
    {
      "cell_type": "markdown",
      "source": [
        "Este estudo tem como objetivo mostrar o uso de técnicas de aprendizado de máquina para fornecer uma solução para o problema de igualdade de renda. O \"Adult\" Dataset foi usado para esse fim. A classificação foi feita para prever se a renda anual de uma pessoa nos EUA cai na categoria de renda superior a 50 mil dólares ou menos de 50 mil dólares com base em um determinado conjunto de atributos.\n",
        "\n",
        "Ronny Kohavi e Barry Becker extraíram o conjunto de dados do banco de dados do censo de 1994. O conjunto de dados contém informações sobre 32.561 registros individuais e 14 atributos compreendendo seis variáveis ​​contínuas e oito categóricas.\n",
        "\n",
        "A lista completa das variáveis ​​é a seguinte:\n",
        "\n",
        "Age, Workclass, Final Weight, Education, Education Number of Years, Marital-status, Occupation, Relationship, Race, Sex, Capital-gain, Capital-loss,Hours-per-week, Native-country.\n",
        "\n",
        "O conjunto de dados contém valores ausentes que são marcados com um caractere de ponto de interrogação (?).\n",
        "\n",
        "Existem dois valores de classe \">50K\" e \"<=50K\".\n",
        "\n",
        "Usando conjuntos predefinidos de treinamento e teste, um bom erro de classificação relatado é de aproximadamente 14 por cento ou uma precisão de classificação de cerca de 86 por cento.\n",
        "Este será um alvo a ser buscado ao trabalhar neste conjunto de dados."
      ],
      "metadata": {
        "id": "fK6G08dqAvOb"
      }
    },
    {
      "cell_type": "markdown",
      "source": [
        "##**2 - Import das bibliotecas**"
      ],
      "metadata": {
        "id": "EQdQdFkvZXeG"
      }
    },
    {
      "cell_type": "code",
      "source": [
        "pip install --upgrade category_encoders"
      ],
      "metadata": {
        "colab": {
          "base_uri": "https://localhost:8080/"
        },
        "id": "kOT0Kpf00FOL",
        "outputId": "d4df3e7f-96d2-469f-e80a-0e7d6bfa0081"
      },
      "execution_count": 408,
      "outputs": [
        {
          "output_type": "stream",
          "name": "stdout",
          "text": [
            "Looking in indexes: https://pypi.org/simple, https://us-python.pkg.dev/colab-wheels/public/simple/\n",
            "Requirement already satisfied: category_encoders in /usr/local/lib/python3.10/dist-packages (2.6.1)\n",
            "Requirement already satisfied: numpy>=1.14.0 in /usr/local/lib/python3.10/dist-packages (from category_encoders) (1.22.4)\n",
            "Requirement already satisfied: scikit-learn>=0.20.0 in /usr/local/lib/python3.10/dist-packages (from category_encoders) (1.2.2)\n",
            "Requirement already satisfied: scipy>=1.0.0 in /usr/local/lib/python3.10/dist-packages (from category_encoders) (1.10.1)\n",
            "Requirement already satisfied: statsmodels>=0.9.0 in /usr/local/lib/python3.10/dist-packages (from category_encoders) (0.13.5)\n",
            "Requirement already satisfied: pandas>=1.0.5 in /usr/local/lib/python3.10/dist-packages (from category_encoders) (1.5.3)\n",
            "Requirement already satisfied: patsy>=0.5.1 in /usr/local/lib/python3.10/dist-packages (from category_encoders) (0.5.3)\n",
            "Requirement already satisfied: python-dateutil>=2.8.1 in /usr/local/lib/python3.10/dist-packages (from pandas>=1.0.5->category_encoders) (2.8.2)\n",
            "Requirement already satisfied: pytz>=2020.1 in /usr/local/lib/python3.10/dist-packages (from pandas>=1.0.5->category_encoders) (2022.7.1)\n",
            "Requirement already satisfied: six in /usr/local/lib/python3.10/dist-packages (from patsy>=0.5.1->category_encoders) (1.16.0)\n",
            "Requirement already satisfied: joblib>=1.1.1 in /usr/local/lib/python3.10/dist-packages (from scikit-learn>=0.20.0->category_encoders) (1.2.0)\n",
            "Requirement already satisfied: threadpoolctl>=2.0.0 in /usr/local/lib/python3.10/dist-packages (from scikit-learn>=0.20.0->category_encoders) (3.1.0)\n",
            "Requirement already satisfied: packaging>=21.3 in /usr/local/lib/python3.10/dist-packages (from statsmodels>=0.9.0->category_encoders) (23.1)\n"
          ]
        }
      ]
    },
    {
      "cell_type": "code",
      "execution_count": 409,
      "metadata": {
        "id": "k9RBG4e9Zhc9"
      },
      "outputs": [],
      "source": [
        "# Configuração para não exibir os warnings\n",
        "import warnings\n",
        "warnings.filterwarnings(\"ignore\")\n",
        "\n",
        "# Imports necessários\n",
        "import pandas as pd\n",
        "import numpy as np\n",
        "import matplotlib.pyplot as plt\n",
        "import category_encoders as ce\n",
        "import seaborn as sns # for statistical data visualization\n",
        "%matplotlib inline\n",
        "from collections import Counter\n",
        "from sklearn.preprocessing import LabelEncoder\n",
        "from sklearn.metrics import confusion_matrix\n",
        "from sklearn.metrics import precision_score\n",
        "from sklearn.metrics import recall_score\n",
        "from sklearn.metrics import make_scorer\n",
        "from sklearn.preprocessing import RobustScaler\n",
        "from sklearn.preprocessing import StandardScaler\n",
        "from sklearn.preprocessing import MinMaxScaler\n",
        "from sklearn.model_selection import train_test_split # para particionar em bases de treino e teste (holdout)\n",
        "from sklearn.model_selection import KFold # para preparar os folds da validação cruzada\n",
        "from sklearn.model_selection import StratifiedKFold\n",
        "from sklearn.model_selection import cross_val_score # para executar a validação cruzada\n",
        "from sklearn.metrics import accuracy_score # para a exibição da acurácia do modelo\n",
        "from sklearn.neighbors import KNeighborsClassifier # algoritmo KNN\n",
        "from sklearn.tree import DecisionTreeClassifier # algoritmo Árvore de Classificação\n",
        "from sklearn.naive_bayes import GaussianNB # algoritmo Naive Bayes\n",
        "from sklearn.svm import SVC # algoritmo SVM\n",
        "from sklearn.model_selection import GridSearchCV\n",
        "from sklearn.pipeline import Pipeline\n",
        "from sklearn.linear_model import LogisticRegression\n",
        "from sklearn.ensemble import BaggingClassifier\n",
        "from sklearn.ensemble import RandomForestClassifier\n",
        "from sklearn.ensemble import ExtraTreesClassifier\n",
        "from sklearn.ensemble import VotingClassifier\n",
        "from sklearn.ensemble import AdaBoostClassifier\n",
        "from sklearn.ensemble import GradientBoostingClassifier\n"
      ]
    },
    {
      "cell_type": "markdown",
      "source": [
        "##**3 - Carregando o Dataset**"
      ],
      "metadata": {
        "id": "NtLuVrWFDiQK"
      }
    },
    {
      "cell_type": "code",
      "source": [
        "# Informa a URL de importação do dataset\n",
        "url = \"https://raw.githubusercontent.com/leoazeved0/mvp_puc_rio/main/adult.csv\"\n",
        "\n",
        "# Lê o arquivo\n",
        "dataset = pd.read_csv(url,  header = None, sep=',\\s')\n",
        "\n",
        "# Mostra as 5 primeiras linhas do dataset\n",
        "dataset.head()"
      ],
      "metadata": {
        "colab": {
          "base_uri": "https://localhost:8080/",
          "height": 206
        },
        "id": "ZfY3aUcBDi9N",
        "outputId": "75abaa2c-2d3d-44b3-a3b4-0b56635f7c75"
      },
      "execution_count": 410,
      "outputs": [
        {
          "output_type": "execute_result",
          "data": {
            "text/plain": [
              "   0                 1       2          3   4                   5   \\\n",
              "0  39         State-gov   77516  Bachelors  13       Never-married   \n",
              "1  50  Self-emp-not-inc   83311  Bachelors  13  Married-civ-spouse   \n",
              "2  38           Private  215646    HS-grad   9            Divorced   \n",
              "3  53           Private  234721       11th   7  Married-civ-spouse   \n",
              "4  28           Private  338409  Bachelors  13  Married-civ-spouse   \n",
              "\n",
              "                  6              7      8       9     10  11  12  \\\n",
              "0       Adm-clerical  Not-in-family  White    Male  2174   0  40   \n",
              "1    Exec-managerial        Husband  White    Male     0   0  13   \n",
              "2  Handlers-cleaners  Not-in-family  White    Male     0   0  40   \n",
              "3  Handlers-cleaners        Husband  Black    Male     0   0  40   \n",
              "4     Prof-specialty           Wife  Black  Female     0   0  40   \n",
              "\n",
              "              13     14  \n",
              "0  United-States  <=50K  \n",
              "1  United-States  <=50K  \n",
              "2  United-States  <=50K  \n",
              "3  United-States  <=50K  \n",
              "4           Cuba  <=50K  "
            ],
            "text/html": [
              "\n",
              "  <div id=\"df-e4e1e44f-d26d-4ab7-a979-a1ad47fe78f1\">\n",
              "    <div class=\"colab-df-container\">\n",
              "      <div>\n",
              "<style scoped>\n",
              "    .dataframe tbody tr th:only-of-type {\n",
              "        vertical-align: middle;\n",
              "    }\n",
              "\n",
              "    .dataframe tbody tr th {\n",
              "        vertical-align: top;\n",
              "    }\n",
              "\n",
              "    .dataframe thead th {\n",
              "        text-align: right;\n",
              "    }\n",
              "</style>\n",
              "<table border=\"1\" class=\"dataframe\">\n",
              "  <thead>\n",
              "    <tr style=\"text-align: right;\">\n",
              "      <th></th>\n",
              "      <th>0</th>\n",
              "      <th>1</th>\n",
              "      <th>2</th>\n",
              "      <th>3</th>\n",
              "      <th>4</th>\n",
              "      <th>5</th>\n",
              "      <th>6</th>\n",
              "      <th>7</th>\n",
              "      <th>8</th>\n",
              "      <th>9</th>\n",
              "      <th>10</th>\n",
              "      <th>11</th>\n",
              "      <th>12</th>\n",
              "      <th>13</th>\n",
              "      <th>14</th>\n",
              "    </tr>\n",
              "  </thead>\n",
              "  <tbody>\n",
              "    <tr>\n",
              "      <th>0</th>\n",
              "      <td>39</td>\n",
              "      <td>State-gov</td>\n",
              "      <td>77516</td>\n",
              "      <td>Bachelors</td>\n",
              "      <td>13</td>\n",
              "      <td>Never-married</td>\n",
              "      <td>Adm-clerical</td>\n",
              "      <td>Not-in-family</td>\n",
              "      <td>White</td>\n",
              "      <td>Male</td>\n",
              "      <td>2174</td>\n",
              "      <td>0</td>\n",
              "      <td>40</td>\n",
              "      <td>United-States</td>\n",
              "      <td>&lt;=50K</td>\n",
              "    </tr>\n",
              "    <tr>\n",
              "      <th>1</th>\n",
              "      <td>50</td>\n",
              "      <td>Self-emp-not-inc</td>\n",
              "      <td>83311</td>\n",
              "      <td>Bachelors</td>\n",
              "      <td>13</td>\n",
              "      <td>Married-civ-spouse</td>\n",
              "      <td>Exec-managerial</td>\n",
              "      <td>Husband</td>\n",
              "      <td>White</td>\n",
              "      <td>Male</td>\n",
              "      <td>0</td>\n",
              "      <td>0</td>\n",
              "      <td>13</td>\n",
              "      <td>United-States</td>\n",
              "      <td>&lt;=50K</td>\n",
              "    </tr>\n",
              "    <tr>\n",
              "      <th>2</th>\n",
              "      <td>38</td>\n",
              "      <td>Private</td>\n",
              "      <td>215646</td>\n",
              "      <td>HS-grad</td>\n",
              "      <td>9</td>\n",
              "      <td>Divorced</td>\n",
              "      <td>Handlers-cleaners</td>\n",
              "      <td>Not-in-family</td>\n",
              "      <td>White</td>\n",
              "      <td>Male</td>\n",
              "      <td>0</td>\n",
              "      <td>0</td>\n",
              "      <td>40</td>\n",
              "      <td>United-States</td>\n",
              "      <td>&lt;=50K</td>\n",
              "    </tr>\n",
              "    <tr>\n",
              "      <th>3</th>\n",
              "      <td>53</td>\n",
              "      <td>Private</td>\n",
              "      <td>234721</td>\n",
              "      <td>11th</td>\n",
              "      <td>7</td>\n",
              "      <td>Married-civ-spouse</td>\n",
              "      <td>Handlers-cleaners</td>\n",
              "      <td>Husband</td>\n",
              "      <td>Black</td>\n",
              "      <td>Male</td>\n",
              "      <td>0</td>\n",
              "      <td>0</td>\n",
              "      <td>40</td>\n",
              "      <td>United-States</td>\n",
              "      <td>&lt;=50K</td>\n",
              "    </tr>\n",
              "    <tr>\n",
              "      <th>4</th>\n",
              "      <td>28</td>\n",
              "      <td>Private</td>\n",
              "      <td>338409</td>\n",
              "      <td>Bachelors</td>\n",
              "      <td>13</td>\n",
              "      <td>Married-civ-spouse</td>\n",
              "      <td>Prof-specialty</td>\n",
              "      <td>Wife</td>\n",
              "      <td>Black</td>\n",
              "      <td>Female</td>\n",
              "      <td>0</td>\n",
              "      <td>0</td>\n",
              "      <td>40</td>\n",
              "      <td>Cuba</td>\n",
              "      <td>&lt;=50K</td>\n",
              "    </tr>\n",
              "  </tbody>\n",
              "</table>\n",
              "</div>\n",
              "      <button class=\"colab-df-convert\" onclick=\"convertToInteractive('df-e4e1e44f-d26d-4ab7-a979-a1ad47fe78f1')\"\n",
              "              title=\"Convert this dataframe to an interactive table.\"\n",
              "              style=\"display:none;\">\n",
              "        \n",
              "  <svg xmlns=\"http://www.w3.org/2000/svg\" height=\"24px\"viewBox=\"0 0 24 24\"\n",
              "       width=\"24px\">\n",
              "    <path d=\"M0 0h24v24H0V0z\" fill=\"none\"/>\n",
              "    <path d=\"M18.56 5.44l.94 2.06.94-2.06 2.06-.94-2.06-.94-.94-2.06-.94 2.06-2.06.94zm-11 1L8.5 8.5l.94-2.06 2.06-.94-2.06-.94L8.5 2.5l-.94 2.06-2.06.94zm10 10l.94 2.06.94-2.06 2.06-.94-2.06-.94-.94-2.06-.94 2.06-2.06.94z\"/><path d=\"M17.41 7.96l-1.37-1.37c-.4-.4-.92-.59-1.43-.59-.52 0-1.04.2-1.43.59L10.3 9.45l-7.72 7.72c-.78.78-.78 2.05 0 2.83L4 21.41c.39.39.9.59 1.41.59.51 0 1.02-.2 1.41-.59l7.78-7.78 2.81-2.81c.8-.78.8-2.07 0-2.86zM5.41 20L4 18.59l7.72-7.72 1.47 1.35L5.41 20z\"/>\n",
              "  </svg>\n",
              "      </button>\n",
              "      \n",
              "  <style>\n",
              "    .colab-df-container {\n",
              "      display:flex;\n",
              "      flex-wrap:wrap;\n",
              "      gap: 12px;\n",
              "    }\n",
              "\n",
              "    .colab-df-convert {\n",
              "      background-color: #E8F0FE;\n",
              "      border: none;\n",
              "      border-radius: 50%;\n",
              "      cursor: pointer;\n",
              "      display: none;\n",
              "      fill: #1967D2;\n",
              "      height: 32px;\n",
              "      padding: 0 0 0 0;\n",
              "      width: 32px;\n",
              "    }\n",
              "\n",
              "    .colab-df-convert:hover {\n",
              "      background-color: #E2EBFA;\n",
              "      box-shadow: 0px 1px 2px rgba(60, 64, 67, 0.3), 0px 1px 3px 1px rgba(60, 64, 67, 0.15);\n",
              "      fill: #174EA6;\n",
              "    }\n",
              "\n",
              "    [theme=dark] .colab-df-convert {\n",
              "      background-color: #3B4455;\n",
              "      fill: #D2E3FC;\n",
              "    }\n",
              "\n",
              "    [theme=dark] .colab-df-convert:hover {\n",
              "      background-color: #434B5C;\n",
              "      box-shadow: 0px 1px 3px 1px rgba(0, 0, 0, 0.15);\n",
              "      filter: drop-shadow(0px 1px 2px rgba(0, 0, 0, 0.3));\n",
              "      fill: #FFFFFF;\n",
              "    }\n",
              "  </style>\n",
              "\n",
              "      <script>\n",
              "        const buttonEl =\n",
              "          document.querySelector('#df-e4e1e44f-d26d-4ab7-a979-a1ad47fe78f1 button.colab-df-convert');\n",
              "        buttonEl.style.display =\n",
              "          google.colab.kernel.accessAllowed ? 'block' : 'none';\n",
              "\n",
              "        async function convertToInteractive(key) {\n",
              "          const element = document.querySelector('#df-e4e1e44f-d26d-4ab7-a979-a1ad47fe78f1');\n",
              "          const dataTable =\n",
              "            await google.colab.kernel.invokeFunction('convertToInteractive',\n",
              "                                                     [key], {});\n",
              "          if (!dataTable) return;\n",
              "\n",
              "          const docLinkHtml = 'Like what you see? Visit the ' +\n",
              "            '<a target=\"_blank\" href=https://colab.research.google.com/notebooks/data_table.ipynb>data table notebook</a>'\n",
              "            + ' to learn more about interactive tables.';\n",
              "          element.innerHTML = '';\n",
              "          dataTable['output_type'] = 'display_data';\n",
              "          await google.colab.output.renderOutput(dataTable, element);\n",
              "          const docLink = document.createElement('div');\n",
              "          docLink.innerHTML = docLinkHtml;\n",
              "          element.appendChild(docLink);\n",
              "        }\n",
              "      </script>\n",
              "    </div>\n",
              "  </div>\n",
              "  "
            ]
          },
          "metadata": {},
          "execution_count": 410
        }
      ]
    },
    {
      "cell_type": "markdown",
      "source": [
        "O dataset contém 32.561 linhas e 15 colunas."
      ],
      "metadata": {
        "id": "dF3zl4XoSPEU"
      }
    },
    {
      "cell_type": "code",
      "source": [
        "print(dataset.shape)"
      ],
      "metadata": {
        "colab": {
          "base_uri": "https://localhost:8080/"
        },
        "id": "giVg9BxRR_Kz",
        "outputId": "ac62a490-77c9-4e7e-cf4d-d38980bd975f"
      },
      "execution_count": 411,
      "outputs": [
        {
          "output_type": "stream",
          "name": "stdout",
          "text": [
            "(32561, 15)\n"
          ]
        }
      ]
    },
    {
      "cell_type": "markdown",
      "source": [
        "##**4 - Análise exploratória dos dados**"
      ],
      "metadata": {
        "id": "7T__zF5ZZyXD"
      }
    },
    {
      "cell_type": "code",
      "source": [
        "# Adicionando os nomes das colunas no dataset\n",
        "col_names = ['age', 'workclass', 'fnlwgt', 'education', 'education_num', 'marital_status', 'occupation', 'relationship',\n",
        "             'race', 'sex', 'capital_gain', 'capital_loss', 'hours_per_week', 'native_country', 'income']\n",
        "\n",
        "dataset.columns = col_names\n",
        "\n",
        "# As 5 primeiras linhas\n",
        "dataset.head()"
      ],
      "metadata": {
        "colab": {
          "base_uri": "https://localhost:8080/",
          "height": 206
        },
        "id": "LkEks8DGXdRG",
        "outputId": "195550a2-23a0-4bef-9820-55bfad04677a"
      },
      "execution_count": 412,
      "outputs": [
        {
          "output_type": "execute_result",
          "data": {
            "text/plain": [
              "   age         workclass  fnlwgt  education  education_num  \\\n",
              "0   39         State-gov   77516  Bachelors             13   \n",
              "1   50  Self-emp-not-inc   83311  Bachelors             13   \n",
              "2   38           Private  215646    HS-grad              9   \n",
              "3   53           Private  234721       11th              7   \n",
              "4   28           Private  338409  Bachelors             13   \n",
              "\n",
              "       marital_status         occupation   relationship   race     sex  \\\n",
              "0       Never-married       Adm-clerical  Not-in-family  White    Male   \n",
              "1  Married-civ-spouse    Exec-managerial        Husband  White    Male   \n",
              "2            Divorced  Handlers-cleaners  Not-in-family  White    Male   \n",
              "3  Married-civ-spouse  Handlers-cleaners        Husband  Black    Male   \n",
              "4  Married-civ-spouse     Prof-specialty           Wife  Black  Female   \n",
              "\n",
              "   capital_gain  capital_loss  hours_per_week native_country income  \n",
              "0          2174             0              40  United-States  <=50K  \n",
              "1             0             0              13  United-States  <=50K  \n",
              "2             0             0              40  United-States  <=50K  \n",
              "3             0             0              40  United-States  <=50K  \n",
              "4             0             0              40           Cuba  <=50K  "
            ],
            "text/html": [
              "\n",
              "  <div id=\"df-fbe03d9a-b606-445d-bda5-61359b512c91\">\n",
              "    <div class=\"colab-df-container\">\n",
              "      <div>\n",
              "<style scoped>\n",
              "    .dataframe tbody tr th:only-of-type {\n",
              "        vertical-align: middle;\n",
              "    }\n",
              "\n",
              "    .dataframe tbody tr th {\n",
              "        vertical-align: top;\n",
              "    }\n",
              "\n",
              "    .dataframe thead th {\n",
              "        text-align: right;\n",
              "    }\n",
              "</style>\n",
              "<table border=\"1\" class=\"dataframe\">\n",
              "  <thead>\n",
              "    <tr style=\"text-align: right;\">\n",
              "      <th></th>\n",
              "      <th>age</th>\n",
              "      <th>workclass</th>\n",
              "      <th>fnlwgt</th>\n",
              "      <th>education</th>\n",
              "      <th>education_num</th>\n",
              "      <th>marital_status</th>\n",
              "      <th>occupation</th>\n",
              "      <th>relationship</th>\n",
              "      <th>race</th>\n",
              "      <th>sex</th>\n",
              "      <th>capital_gain</th>\n",
              "      <th>capital_loss</th>\n",
              "      <th>hours_per_week</th>\n",
              "      <th>native_country</th>\n",
              "      <th>income</th>\n",
              "    </tr>\n",
              "  </thead>\n",
              "  <tbody>\n",
              "    <tr>\n",
              "      <th>0</th>\n",
              "      <td>39</td>\n",
              "      <td>State-gov</td>\n",
              "      <td>77516</td>\n",
              "      <td>Bachelors</td>\n",
              "      <td>13</td>\n",
              "      <td>Never-married</td>\n",
              "      <td>Adm-clerical</td>\n",
              "      <td>Not-in-family</td>\n",
              "      <td>White</td>\n",
              "      <td>Male</td>\n",
              "      <td>2174</td>\n",
              "      <td>0</td>\n",
              "      <td>40</td>\n",
              "      <td>United-States</td>\n",
              "      <td>&lt;=50K</td>\n",
              "    </tr>\n",
              "    <tr>\n",
              "      <th>1</th>\n",
              "      <td>50</td>\n",
              "      <td>Self-emp-not-inc</td>\n",
              "      <td>83311</td>\n",
              "      <td>Bachelors</td>\n",
              "      <td>13</td>\n",
              "      <td>Married-civ-spouse</td>\n",
              "      <td>Exec-managerial</td>\n",
              "      <td>Husband</td>\n",
              "      <td>White</td>\n",
              "      <td>Male</td>\n",
              "      <td>0</td>\n",
              "      <td>0</td>\n",
              "      <td>13</td>\n",
              "      <td>United-States</td>\n",
              "      <td>&lt;=50K</td>\n",
              "    </tr>\n",
              "    <tr>\n",
              "      <th>2</th>\n",
              "      <td>38</td>\n",
              "      <td>Private</td>\n",
              "      <td>215646</td>\n",
              "      <td>HS-grad</td>\n",
              "      <td>9</td>\n",
              "      <td>Divorced</td>\n",
              "      <td>Handlers-cleaners</td>\n",
              "      <td>Not-in-family</td>\n",
              "      <td>White</td>\n",
              "      <td>Male</td>\n",
              "      <td>0</td>\n",
              "      <td>0</td>\n",
              "      <td>40</td>\n",
              "      <td>United-States</td>\n",
              "      <td>&lt;=50K</td>\n",
              "    </tr>\n",
              "    <tr>\n",
              "      <th>3</th>\n",
              "      <td>53</td>\n",
              "      <td>Private</td>\n",
              "      <td>234721</td>\n",
              "      <td>11th</td>\n",
              "      <td>7</td>\n",
              "      <td>Married-civ-spouse</td>\n",
              "      <td>Handlers-cleaners</td>\n",
              "      <td>Husband</td>\n",
              "      <td>Black</td>\n",
              "      <td>Male</td>\n",
              "      <td>0</td>\n",
              "      <td>0</td>\n",
              "      <td>40</td>\n",
              "      <td>United-States</td>\n",
              "      <td>&lt;=50K</td>\n",
              "    </tr>\n",
              "    <tr>\n",
              "      <th>4</th>\n",
              "      <td>28</td>\n",
              "      <td>Private</td>\n",
              "      <td>338409</td>\n",
              "      <td>Bachelors</td>\n",
              "      <td>13</td>\n",
              "      <td>Married-civ-spouse</td>\n",
              "      <td>Prof-specialty</td>\n",
              "      <td>Wife</td>\n",
              "      <td>Black</td>\n",
              "      <td>Female</td>\n",
              "      <td>0</td>\n",
              "      <td>0</td>\n",
              "      <td>40</td>\n",
              "      <td>Cuba</td>\n",
              "      <td>&lt;=50K</td>\n",
              "    </tr>\n",
              "  </tbody>\n",
              "</table>\n",
              "</div>\n",
              "      <button class=\"colab-df-convert\" onclick=\"convertToInteractive('df-fbe03d9a-b606-445d-bda5-61359b512c91')\"\n",
              "              title=\"Convert this dataframe to an interactive table.\"\n",
              "              style=\"display:none;\">\n",
              "        \n",
              "  <svg xmlns=\"http://www.w3.org/2000/svg\" height=\"24px\"viewBox=\"0 0 24 24\"\n",
              "       width=\"24px\">\n",
              "    <path d=\"M0 0h24v24H0V0z\" fill=\"none\"/>\n",
              "    <path d=\"M18.56 5.44l.94 2.06.94-2.06 2.06-.94-2.06-.94-.94-2.06-.94 2.06-2.06.94zm-11 1L8.5 8.5l.94-2.06 2.06-.94-2.06-.94L8.5 2.5l-.94 2.06-2.06.94zm10 10l.94 2.06.94-2.06 2.06-.94-2.06-.94-.94-2.06-.94 2.06-2.06.94z\"/><path d=\"M17.41 7.96l-1.37-1.37c-.4-.4-.92-.59-1.43-.59-.52 0-1.04.2-1.43.59L10.3 9.45l-7.72 7.72c-.78.78-.78 2.05 0 2.83L4 21.41c.39.39.9.59 1.41.59.51 0 1.02-.2 1.41-.59l7.78-7.78 2.81-2.81c.8-.78.8-2.07 0-2.86zM5.41 20L4 18.59l7.72-7.72 1.47 1.35L5.41 20z\"/>\n",
              "  </svg>\n",
              "      </button>\n",
              "      \n",
              "  <style>\n",
              "    .colab-df-container {\n",
              "      display:flex;\n",
              "      flex-wrap:wrap;\n",
              "      gap: 12px;\n",
              "    }\n",
              "\n",
              "    .colab-df-convert {\n",
              "      background-color: #E8F0FE;\n",
              "      border: none;\n",
              "      border-radius: 50%;\n",
              "      cursor: pointer;\n",
              "      display: none;\n",
              "      fill: #1967D2;\n",
              "      height: 32px;\n",
              "      padding: 0 0 0 0;\n",
              "      width: 32px;\n",
              "    }\n",
              "\n",
              "    .colab-df-convert:hover {\n",
              "      background-color: #E2EBFA;\n",
              "      box-shadow: 0px 1px 2px rgba(60, 64, 67, 0.3), 0px 1px 3px 1px rgba(60, 64, 67, 0.15);\n",
              "      fill: #174EA6;\n",
              "    }\n",
              "\n",
              "    [theme=dark] .colab-df-convert {\n",
              "      background-color: #3B4455;\n",
              "      fill: #D2E3FC;\n",
              "    }\n",
              "\n",
              "    [theme=dark] .colab-df-convert:hover {\n",
              "      background-color: #434B5C;\n",
              "      box-shadow: 0px 1px 3px 1px rgba(0, 0, 0, 0.15);\n",
              "      filter: drop-shadow(0px 1px 2px rgba(0, 0, 0, 0.3));\n",
              "      fill: #FFFFFF;\n",
              "    }\n",
              "  </style>\n",
              "\n",
              "      <script>\n",
              "        const buttonEl =\n",
              "          document.querySelector('#df-fbe03d9a-b606-445d-bda5-61359b512c91 button.colab-df-convert');\n",
              "        buttonEl.style.display =\n",
              "          google.colab.kernel.accessAllowed ? 'block' : 'none';\n",
              "\n",
              "        async function convertToInteractive(key) {\n",
              "          const element = document.querySelector('#df-fbe03d9a-b606-445d-bda5-61359b512c91');\n",
              "          const dataTable =\n",
              "            await google.colab.kernel.invokeFunction('convertToInteractive',\n",
              "                                                     [key], {});\n",
              "          if (!dataTable) return;\n",
              "\n",
              "          const docLinkHtml = 'Like what you see? Visit the ' +\n",
              "            '<a target=\"_blank\" href=https://colab.research.google.com/notebooks/data_table.ipynb>data table notebook</a>'\n",
              "            + ' to learn more about interactive tables.';\n",
              "          element.innerHTML = '';\n",
              "          dataTable['output_type'] = 'display_data';\n",
              "          await google.colab.output.renderOutput(dataTable, element);\n",
              "          const docLink = document.createElement('div');\n",
              "          docLink.innerHTML = docLinkHtml;\n",
              "          element.appendChild(docLink);\n",
              "        }\n",
              "      </script>\n",
              "    </div>\n",
              "  </div>\n",
              "  "
            ]
          },
          "metadata": {},
          "execution_count": 412
        }
      ]
    },
    {
      "cell_type": "code",
      "source": [
        "# As últimas 5 linhas\n",
        "dataset.tail()"
      ],
      "metadata": {
        "colab": {
          "base_uri": "https://localhost:8080/",
          "height": 206
        },
        "id": "U_VNPwRgRBR0",
        "outputId": "1c56e9f5-c76b-46d9-be6f-96ada0153bfc"
      },
      "execution_count": 413,
      "outputs": [
        {
          "output_type": "execute_result",
          "data": {
            "text/plain": [
              "       age     workclass  fnlwgt   education  education_num  \\\n",
              "32556   27       Private  257302  Assoc-acdm             12   \n",
              "32557   40       Private  154374     HS-grad              9   \n",
              "32558   58       Private  151910     HS-grad              9   \n",
              "32559   22       Private  201490     HS-grad              9   \n",
              "32560   52  Self-emp-inc  287927     HS-grad              9   \n",
              "\n",
              "           marital_status         occupation relationship   race     sex  \\\n",
              "32556  Married-civ-spouse       Tech-support         Wife  White  Female   \n",
              "32557  Married-civ-spouse  Machine-op-inspct      Husband  White    Male   \n",
              "32558             Widowed       Adm-clerical    Unmarried  White  Female   \n",
              "32559       Never-married       Adm-clerical    Own-child  White    Male   \n",
              "32560  Married-civ-spouse    Exec-managerial         Wife  White  Female   \n",
              "\n",
              "       capital_gain  capital_loss  hours_per_week native_country income  \n",
              "32556             0             0              38  United-States  <=50K  \n",
              "32557             0             0              40  United-States   >50K  \n",
              "32558             0             0              40  United-States  <=50K  \n",
              "32559             0             0              20  United-States  <=50K  \n",
              "32560         15024             0              40  United-States   >50K  "
            ],
            "text/html": [
              "\n",
              "  <div id=\"df-b2066506-531c-41ec-80e1-478c49c58f17\">\n",
              "    <div class=\"colab-df-container\">\n",
              "      <div>\n",
              "<style scoped>\n",
              "    .dataframe tbody tr th:only-of-type {\n",
              "        vertical-align: middle;\n",
              "    }\n",
              "\n",
              "    .dataframe tbody tr th {\n",
              "        vertical-align: top;\n",
              "    }\n",
              "\n",
              "    .dataframe thead th {\n",
              "        text-align: right;\n",
              "    }\n",
              "</style>\n",
              "<table border=\"1\" class=\"dataframe\">\n",
              "  <thead>\n",
              "    <tr style=\"text-align: right;\">\n",
              "      <th></th>\n",
              "      <th>age</th>\n",
              "      <th>workclass</th>\n",
              "      <th>fnlwgt</th>\n",
              "      <th>education</th>\n",
              "      <th>education_num</th>\n",
              "      <th>marital_status</th>\n",
              "      <th>occupation</th>\n",
              "      <th>relationship</th>\n",
              "      <th>race</th>\n",
              "      <th>sex</th>\n",
              "      <th>capital_gain</th>\n",
              "      <th>capital_loss</th>\n",
              "      <th>hours_per_week</th>\n",
              "      <th>native_country</th>\n",
              "      <th>income</th>\n",
              "    </tr>\n",
              "  </thead>\n",
              "  <tbody>\n",
              "    <tr>\n",
              "      <th>32556</th>\n",
              "      <td>27</td>\n",
              "      <td>Private</td>\n",
              "      <td>257302</td>\n",
              "      <td>Assoc-acdm</td>\n",
              "      <td>12</td>\n",
              "      <td>Married-civ-spouse</td>\n",
              "      <td>Tech-support</td>\n",
              "      <td>Wife</td>\n",
              "      <td>White</td>\n",
              "      <td>Female</td>\n",
              "      <td>0</td>\n",
              "      <td>0</td>\n",
              "      <td>38</td>\n",
              "      <td>United-States</td>\n",
              "      <td>&lt;=50K</td>\n",
              "    </tr>\n",
              "    <tr>\n",
              "      <th>32557</th>\n",
              "      <td>40</td>\n",
              "      <td>Private</td>\n",
              "      <td>154374</td>\n",
              "      <td>HS-grad</td>\n",
              "      <td>9</td>\n",
              "      <td>Married-civ-spouse</td>\n",
              "      <td>Machine-op-inspct</td>\n",
              "      <td>Husband</td>\n",
              "      <td>White</td>\n",
              "      <td>Male</td>\n",
              "      <td>0</td>\n",
              "      <td>0</td>\n",
              "      <td>40</td>\n",
              "      <td>United-States</td>\n",
              "      <td>&gt;50K</td>\n",
              "    </tr>\n",
              "    <tr>\n",
              "      <th>32558</th>\n",
              "      <td>58</td>\n",
              "      <td>Private</td>\n",
              "      <td>151910</td>\n",
              "      <td>HS-grad</td>\n",
              "      <td>9</td>\n",
              "      <td>Widowed</td>\n",
              "      <td>Adm-clerical</td>\n",
              "      <td>Unmarried</td>\n",
              "      <td>White</td>\n",
              "      <td>Female</td>\n",
              "      <td>0</td>\n",
              "      <td>0</td>\n",
              "      <td>40</td>\n",
              "      <td>United-States</td>\n",
              "      <td>&lt;=50K</td>\n",
              "    </tr>\n",
              "    <tr>\n",
              "      <th>32559</th>\n",
              "      <td>22</td>\n",
              "      <td>Private</td>\n",
              "      <td>201490</td>\n",
              "      <td>HS-grad</td>\n",
              "      <td>9</td>\n",
              "      <td>Never-married</td>\n",
              "      <td>Adm-clerical</td>\n",
              "      <td>Own-child</td>\n",
              "      <td>White</td>\n",
              "      <td>Male</td>\n",
              "      <td>0</td>\n",
              "      <td>0</td>\n",
              "      <td>20</td>\n",
              "      <td>United-States</td>\n",
              "      <td>&lt;=50K</td>\n",
              "    </tr>\n",
              "    <tr>\n",
              "      <th>32560</th>\n",
              "      <td>52</td>\n",
              "      <td>Self-emp-inc</td>\n",
              "      <td>287927</td>\n",
              "      <td>HS-grad</td>\n",
              "      <td>9</td>\n",
              "      <td>Married-civ-spouse</td>\n",
              "      <td>Exec-managerial</td>\n",
              "      <td>Wife</td>\n",
              "      <td>White</td>\n",
              "      <td>Female</td>\n",
              "      <td>15024</td>\n",
              "      <td>0</td>\n",
              "      <td>40</td>\n",
              "      <td>United-States</td>\n",
              "      <td>&gt;50K</td>\n",
              "    </tr>\n",
              "  </tbody>\n",
              "</table>\n",
              "</div>\n",
              "      <button class=\"colab-df-convert\" onclick=\"convertToInteractive('df-b2066506-531c-41ec-80e1-478c49c58f17')\"\n",
              "              title=\"Convert this dataframe to an interactive table.\"\n",
              "              style=\"display:none;\">\n",
              "        \n",
              "  <svg xmlns=\"http://www.w3.org/2000/svg\" height=\"24px\"viewBox=\"0 0 24 24\"\n",
              "       width=\"24px\">\n",
              "    <path d=\"M0 0h24v24H0V0z\" fill=\"none\"/>\n",
              "    <path d=\"M18.56 5.44l.94 2.06.94-2.06 2.06-.94-2.06-.94-.94-2.06-.94 2.06-2.06.94zm-11 1L8.5 8.5l.94-2.06 2.06-.94-2.06-.94L8.5 2.5l-.94 2.06-2.06.94zm10 10l.94 2.06.94-2.06 2.06-.94-2.06-.94-.94-2.06-.94 2.06-2.06.94z\"/><path d=\"M17.41 7.96l-1.37-1.37c-.4-.4-.92-.59-1.43-.59-.52 0-1.04.2-1.43.59L10.3 9.45l-7.72 7.72c-.78.78-.78 2.05 0 2.83L4 21.41c.39.39.9.59 1.41.59.51 0 1.02-.2 1.41-.59l7.78-7.78 2.81-2.81c.8-.78.8-2.07 0-2.86zM5.41 20L4 18.59l7.72-7.72 1.47 1.35L5.41 20z\"/>\n",
              "  </svg>\n",
              "      </button>\n",
              "      \n",
              "  <style>\n",
              "    .colab-df-container {\n",
              "      display:flex;\n",
              "      flex-wrap:wrap;\n",
              "      gap: 12px;\n",
              "    }\n",
              "\n",
              "    .colab-df-convert {\n",
              "      background-color: #E8F0FE;\n",
              "      border: none;\n",
              "      border-radius: 50%;\n",
              "      cursor: pointer;\n",
              "      display: none;\n",
              "      fill: #1967D2;\n",
              "      height: 32px;\n",
              "      padding: 0 0 0 0;\n",
              "      width: 32px;\n",
              "    }\n",
              "\n",
              "    .colab-df-convert:hover {\n",
              "      background-color: #E2EBFA;\n",
              "      box-shadow: 0px 1px 2px rgba(60, 64, 67, 0.3), 0px 1px 3px 1px rgba(60, 64, 67, 0.15);\n",
              "      fill: #174EA6;\n",
              "    }\n",
              "\n",
              "    [theme=dark] .colab-df-convert {\n",
              "      background-color: #3B4455;\n",
              "      fill: #D2E3FC;\n",
              "    }\n",
              "\n",
              "    [theme=dark] .colab-df-convert:hover {\n",
              "      background-color: #434B5C;\n",
              "      box-shadow: 0px 1px 3px 1px rgba(0, 0, 0, 0.15);\n",
              "      filter: drop-shadow(0px 1px 2px rgba(0, 0, 0, 0.3));\n",
              "      fill: #FFFFFF;\n",
              "    }\n",
              "  </style>\n",
              "\n",
              "      <script>\n",
              "        const buttonEl =\n",
              "          document.querySelector('#df-b2066506-531c-41ec-80e1-478c49c58f17 button.colab-df-convert');\n",
              "        buttonEl.style.display =\n",
              "          google.colab.kernel.accessAllowed ? 'block' : 'none';\n",
              "\n",
              "        async function convertToInteractive(key) {\n",
              "          const element = document.querySelector('#df-b2066506-531c-41ec-80e1-478c49c58f17');\n",
              "          const dataTable =\n",
              "            await google.colab.kernel.invokeFunction('convertToInteractive',\n",
              "                                                     [key], {});\n",
              "          if (!dataTable) return;\n",
              "\n",
              "          const docLinkHtml = 'Like what you see? Visit the ' +\n",
              "            '<a target=\"_blank\" href=https://colab.research.google.com/notebooks/data_table.ipynb>data table notebook</a>'\n",
              "            + ' to learn more about interactive tables.';\n",
              "          element.innerHTML = '';\n",
              "          dataTable['output_type'] = 'display_data';\n",
              "          await google.colab.output.renderOutput(dataTable, element);\n",
              "          const docLink = document.createElement('div');\n",
              "          docLink.innerHTML = docLinkHtml;\n",
              "          element.appendChild(docLink);\n",
              "        }\n",
              "      </script>\n",
              "    </div>\n",
              "  </div>\n",
              "  "
            ]
          },
          "metadata": {},
          "execution_count": 413
        }
      ]
    },
    {
      "cell_type": "code",
      "source": [
        "# Resumo de distribuição das classes\n",
        "target = dataset.values[:,-1]\n",
        "counter = Counter(target)\n",
        "for k,v in counter.items():\n",
        " per = v / len(target) * 100\n",
        " print('Class=%s, Count=%d, Percentage=%.2f%%' % (k, v, per))"
      ],
      "metadata": {
        "colab": {
          "base_uri": "https://localhost:8080/"
        },
        "id": "_BylGZRCVsx4",
        "outputId": "b3bcccef-3d6c-4d0e-b6e7-fb7d385e0c38"
      },
      "execution_count": 414,
      "outputs": [
        {
          "output_type": "stream",
          "name": "stdout",
          "text": [
            "Class=<=50K, Count=24720, Percentage=75.92%\n",
            "Class=>50K, Count=7841, Percentage=24.08%\n"
          ]
        }
      ]
    },
    {
      "cell_type": "code",
      "source": [
        "# Informação das colunas existentes e a quantidade de dados\n",
        "dataset.info()"
      ],
      "metadata": {
        "colab": {
          "base_uri": "https://localhost:8080/"
        },
        "id": "PAXMrxcYVOlj",
        "outputId": "8ea5a02d-8c1d-4e81-c320-1bd244357f0b"
      },
      "execution_count": 415,
      "outputs": [
        {
          "output_type": "stream",
          "name": "stdout",
          "text": [
            "<class 'pandas.core.frame.DataFrame'>\n",
            "RangeIndex: 32561 entries, 0 to 32560\n",
            "Data columns (total 15 columns):\n",
            " #   Column          Non-Null Count  Dtype \n",
            "---  ------          --------------  ----- \n",
            " 0   age             32561 non-null  int64 \n",
            " 1   workclass       32561 non-null  object\n",
            " 2   fnlwgt          32561 non-null  int64 \n",
            " 3   education       32561 non-null  object\n",
            " 4   education_num   32561 non-null  int64 \n",
            " 5   marital_status  32561 non-null  object\n",
            " 6   occupation      32561 non-null  object\n",
            " 7   relationship    32561 non-null  object\n",
            " 8   race            32561 non-null  object\n",
            " 9   sex             32561 non-null  object\n",
            " 10  capital_gain    32561 non-null  int64 \n",
            " 11  capital_loss    32561 non-null  int64 \n",
            " 12  hours_per_week  32561 non-null  int64 \n",
            " 13  native_country  32561 non-null  object\n",
            " 14  income          32561 non-null  object\n",
            "dtypes: int64(6), object(9)\n",
            "memory usage: 3.7+ MB\n"
          ]
        }
      ]
    },
    {
      "cell_type": "code",
      "source": [
        "# Visualizando as colunas com valores do tipo 'object'\n",
        "colunascategoricas = [var for var in dataset.columns if dataset[var].dtype=='O']\n",
        "\n",
        "print('São {} colunas \\n'.format(len(colunascategoricas)))\n",
        "\n",
        "print('As colunas são :\\n\\n', colunascategoricas)\n",
        "\n"
      ],
      "metadata": {
        "colab": {
          "base_uri": "https://localhost:8080/"
        },
        "id": "Wj3QcOYAYWGk",
        "outputId": "55a6d7e7-41c7-416e-e89d-e495a6617d43"
      },
      "execution_count": 416,
      "outputs": [
        {
          "output_type": "stream",
          "name": "stdout",
          "text": [
            "São 9 colunas \n",
            "\n",
            "As colunas são :\n",
            "\n",
            " ['workclass', 'education', 'marital_status', 'occupation', 'relationship', 'race', 'sex', 'native_country', 'income']\n"
          ]
        }
      ]
    },
    {
      "cell_type": "markdown",
      "source": [
        "Explorando problemas nas variáveis categóricas.\n",
        "\n"
      ],
      "metadata": {
        "id": "z834N3-Ndk9O"
      }
    },
    {
      "cell_type": "code",
      "source": [
        "# Valores ausentes em cada uma das colunas com os valores do tipo 'object'\n",
        "dataset[colunascategoricas].isnull().sum()\n"
      ],
      "metadata": {
        "colab": {
          "base_uri": "https://localhost:8080/"
        },
        "id": "sf1u_UaPbxHb",
        "outputId": "61add1bb-9672-4849-b957-d53e3f068459"
      },
      "execution_count": 417,
      "outputs": [
        {
          "output_type": "execute_result",
          "data": {
            "text/plain": [
              "workclass         0\n",
              "education         0\n",
              "marital_status    0\n",
              "occupation        0\n",
              "relationship      0\n",
              "race              0\n",
              "sex               0\n",
              "native_country    0\n",
              "income            0\n",
              "dtype: int64"
            ]
          },
          "metadata": {},
          "execution_count": 417
        }
      ]
    },
    {
      "cell_type": "code",
      "source": [
        "# Visualizar a quantidade dos valores nas colunas\n",
        "\n",
        "for coluna in colunascategoricas:\n",
        "\n",
        "    print(dataset[coluna].value_counts())"
      ],
      "metadata": {
        "colab": {
          "base_uri": "https://localhost:8080/"
        },
        "id": "nzJvBPkKev_m",
        "outputId": "eda29e6f-dba3-4371-cfbc-d361730bae12"
      },
      "execution_count": 418,
      "outputs": [
        {
          "output_type": "stream",
          "name": "stdout",
          "text": [
            "Private             22696\n",
            "Self-emp-not-inc     2541\n",
            "Local-gov            2093\n",
            "?                    1836\n",
            "State-gov            1298\n",
            "Self-emp-inc         1116\n",
            "Federal-gov           960\n",
            "Without-pay            14\n",
            "Never-worked            7\n",
            "Name: workclass, dtype: int64\n",
            "HS-grad         10501\n",
            "Some-college     7291\n",
            "Bachelors        5355\n",
            "Masters          1723\n",
            "Assoc-voc        1382\n",
            "11th             1175\n",
            "Assoc-acdm       1067\n",
            "10th              933\n",
            "7th-8th           646\n",
            "Prof-school       576\n",
            "9th               514\n",
            "12th              433\n",
            "Doctorate         413\n",
            "5th-6th           333\n",
            "1st-4th           168\n",
            "Preschool          51\n",
            "Name: education, dtype: int64\n",
            "Married-civ-spouse       14976\n",
            "Never-married            10683\n",
            "Divorced                  4443\n",
            "Separated                 1025\n",
            "Widowed                    993\n",
            "Married-spouse-absent      418\n",
            "Married-AF-spouse           23\n",
            "Name: marital_status, dtype: int64\n",
            "Prof-specialty       4140\n",
            "Craft-repair         4099\n",
            "Exec-managerial      4066\n",
            "Adm-clerical         3770\n",
            "Sales                3650\n",
            "Other-service        3295\n",
            "Machine-op-inspct    2002\n",
            "?                    1843\n",
            "Transport-moving     1597\n",
            "Handlers-cleaners    1370\n",
            "Farming-fishing       994\n",
            "Tech-support          928\n",
            "Protective-serv       649\n",
            "Priv-house-serv       149\n",
            "Armed-Forces            9\n",
            "Name: occupation, dtype: int64\n",
            "Husband           13193\n",
            "Not-in-family      8305\n",
            "Own-child          5068\n",
            "Unmarried          3446\n",
            "Wife               1568\n",
            "Other-relative      981\n",
            "Name: relationship, dtype: int64\n",
            "White                 27816\n",
            "Black                  3124\n",
            "Asian-Pac-Islander     1039\n",
            "Amer-Indian-Eskimo      311\n",
            "Other                   271\n",
            "Name: race, dtype: int64\n",
            "Male      21790\n",
            "Female    10771\n",
            "Name: sex, dtype: int64\n",
            "United-States                 29170\n",
            "Mexico                          643\n",
            "?                               583\n",
            "Philippines                     198\n",
            "Germany                         137\n",
            "Canada                          121\n",
            "Puerto-Rico                     114\n",
            "El-Salvador                     106\n",
            "India                           100\n",
            "Cuba                             95\n",
            "England                          90\n",
            "Jamaica                          81\n",
            "South                            80\n",
            "China                            75\n",
            "Italy                            73\n",
            "Dominican-Republic               70\n",
            "Vietnam                          67\n",
            "Guatemala                        64\n",
            "Japan                            62\n",
            "Poland                           60\n",
            "Columbia                         59\n",
            "Taiwan                           51\n",
            "Haiti                            44\n",
            "Iran                             43\n",
            "Portugal                         37\n",
            "Nicaragua                        34\n",
            "Peru                             31\n",
            "France                           29\n",
            "Greece                           29\n",
            "Ecuador                          28\n",
            "Ireland                          24\n",
            "Hong                             20\n",
            "Cambodia                         19\n",
            "Trinadad&Tobago                  19\n",
            "Laos                             18\n",
            "Thailand                         18\n",
            "Yugoslavia                       16\n",
            "Outlying-US(Guam-USVI-etc)       14\n",
            "Honduras                         13\n",
            "Hungary                          13\n",
            "Scotland                         12\n",
            "Holand-Netherlands                1\n",
            "Name: native_country, dtype: int64\n",
            "<=50K    24720\n",
            ">50K      7841\n",
            "Name: income, dtype: int64\n"
          ]
        }
      ]
    },
    {
      "cell_type": "code",
      "source": [
        "# Visualizar a participação da frequência de cada um dos valores\n",
        "\n",
        "for coluna in colunascategoricas:\n",
        "\n",
        "    print(dataset[coluna].value_counts()/np.float(len(dataset)))"
      ],
      "metadata": {
        "colab": {
          "base_uri": "https://localhost:8080/"
        },
        "id": "7PjP7mVbfH9E",
        "outputId": "7ba6be3d-fd7a-4459-fdae-14c47cec6494"
      },
      "execution_count": 419,
      "outputs": [
        {
          "output_type": "stream",
          "name": "stdout",
          "text": [
            "Private             0.697030\n",
            "Self-emp-not-inc    0.078038\n",
            "Local-gov           0.064279\n",
            "?                   0.056386\n",
            "State-gov           0.039864\n",
            "Self-emp-inc        0.034274\n",
            "Federal-gov         0.029483\n",
            "Without-pay         0.000430\n",
            "Never-worked        0.000215\n",
            "Name: workclass, dtype: float64\n",
            "HS-grad         0.322502\n",
            "Some-college    0.223918\n",
            "Bachelors       0.164461\n",
            "Masters         0.052916\n",
            "Assoc-voc       0.042443\n",
            "11th            0.036086\n",
            "Assoc-acdm      0.032769\n",
            "10th            0.028654\n",
            "7th-8th         0.019840\n",
            "Prof-school     0.017690\n",
            "9th             0.015786\n",
            "12th            0.013298\n",
            "Doctorate       0.012684\n",
            "5th-6th         0.010227\n",
            "1st-4th         0.005160\n",
            "Preschool       0.001566\n",
            "Name: education, dtype: float64\n",
            "Married-civ-spouse       0.459937\n",
            "Never-married            0.328092\n",
            "Divorced                 0.136452\n",
            "Separated                0.031479\n",
            "Widowed                  0.030497\n",
            "Married-spouse-absent    0.012837\n",
            "Married-AF-spouse        0.000706\n",
            "Name: marital_status, dtype: float64\n",
            "Prof-specialty       0.127146\n",
            "Craft-repair         0.125887\n",
            "Exec-managerial      0.124873\n",
            "Adm-clerical         0.115783\n",
            "Sales                0.112097\n",
            "Other-service        0.101195\n",
            "Machine-op-inspct    0.061485\n",
            "?                    0.056601\n",
            "Transport-moving     0.049046\n",
            "Handlers-cleaners    0.042075\n",
            "Farming-fishing      0.030527\n",
            "Tech-support         0.028500\n",
            "Protective-serv      0.019932\n",
            "Priv-house-serv      0.004576\n",
            "Armed-Forces         0.000276\n",
            "Name: occupation, dtype: float64\n",
            "Husband           0.405178\n",
            "Not-in-family     0.255060\n",
            "Own-child         0.155646\n",
            "Unmarried         0.105832\n",
            "Wife              0.048156\n",
            "Other-relative    0.030128\n",
            "Name: relationship, dtype: float64\n",
            "White                 0.854274\n",
            "Black                 0.095943\n",
            "Asian-Pac-Islander    0.031909\n",
            "Amer-Indian-Eskimo    0.009551\n",
            "Other                 0.008323\n",
            "Name: race, dtype: float64\n",
            "Male      0.669205\n",
            "Female    0.330795\n",
            "Name: sex, dtype: float64\n",
            "United-States                 0.895857\n",
            "Mexico                        0.019748\n",
            "?                             0.017905\n",
            "Philippines                   0.006081\n",
            "Germany                       0.004207\n",
            "Canada                        0.003716\n",
            "Puerto-Rico                   0.003501\n",
            "El-Salvador                   0.003255\n",
            "India                         0.003071\n",
            "Cuba                          0.002918\n",
            "England                       0.002764\n",
            "Jamaica                       0.002488\n",
            "South                         0.002457\n",
            "China                         0.002303\n",
            "Italy                         0.002242\n",
            "Dominican-Republic            0.002150\n",
            "Vietnam                       0.002058\n",
            "Guatemala                     0.001966\n",
            "Japan                         0.001904\n",
            "Poland                        0.001843\n",
            "Columbia                      0.001812\n",
            "Taiwan                        0.001566\n",
            "Haiti                         0.001351\n",
            "Iran                          0.001321\n",
            "Portugal                      0.001136\n",
            "Nicaragua                     0.001044\n",
            "Peru                          0.000952\n",
            "France                        0.000891\n",
            "Greece                        0.000891\n",
            "Ecuador                       0.000860\n",
            "Ireland                       0.000737\n",
            "Hong                          0.000614\n",
            "Cambodia                      0.000584\n",
            "Trinadad&Tobago               0.000584\n",
            "Laos                          0.000553\n",
            "Thailand                      0.000553\n",
            "Yugoslavia                    0.000491\n",
            "Outlying-US(Guam-USVI-etc)    0.000430\n",
            "Honduras                      0.000399\n",
            "Hungary                       0.000399\n",
            "Scotland                      0.000369\n",
            "Holand-Netherlands            0.000031\n",
            "Name: native_country, dtype: float64\n",
            "<=50K    0.75919\n",
            ">50K     0.24081\n",
            "Name: income, dtype: float64\n"
          ]
        }
      ]
    },
    {
      "cell_type": "markdown",
      "source": [
        "Podemos ver que existem algumas colunas ​​como workclass, occupation, native_country que contêm missings. Geralmente, os valores ausentes são codificados como NaN e o python os detectará com o comando df.isnull().sum().\n",
        "\n",
        "Mas neste caso os valores ausentes são codificados como ?. O Python não detecta esses valores como ausentes porque não considera ? como valores ausentes. Então, eu tenho que substituir com NaN para que o Python possa detectar esses valores ausentes.\n",
        "\n",
        "Vou explorar os valores destas colunas ​​e substituir com NaN."
      ],
      "metadata": {
        "id": "WQWdCeybfwe8"
      }
    },
    {
      "cell_type": "code",
      "source": [
        "# Verificando os valores (distintos) existentes na coluna workclass\n",
        "\n",
        "dataset.workclass.unique()"
      ],
      "metadata": {
        "colab": {
          "base_uri": "https://localhost:8080/"
        },
        "id": "nJWisVUQg1CF",
        "outputId": "58d4a751-435e-4919-bc66-31842926bf07"
      },
      "execution_count": 420,
      "outputs": [
        {
          "output_type": "execute_result",
          "data": {
            "text/plain": [
              "array(['State-gov', 'Self-emp-not-inc', 'Private', 'Federal-gov',\n",
              "       'Local-gov', '?', 'Self-emp-inc', 'Without-pay', 'Never-worked'],\n",
              "      dtype=object)"
            ]
          },
          "metadata": {},
          "execution_count": 420
        }
      ]
    },
    {
      "cell_type": "code",
      "source": [
        "# Checando a quantidade dos valores na coluna workclass\n",
        "\n",
        "dataset.workclass.value_counts()"
      ],
      "metadata": {
        "colab": {
          "base_uri": "https://localhost:8080/"
        },
        "id": "pUnQyRZfhJKV",
        "outputId": "cda33ab7-3850-4b7e-a9c6-8f481ccffa13"
      },
      "execution_count": 421,
      "outputs": [
        {
          "output_type": "execute_result",
          "data": {
            "text/plain": [
              "Private             22696\n",
              "Self-emp-not-inc     2541\n",
              "Local-gov            2093\n",
              "?                    1836\n",
              "State-gov            1298\n",
              "Self-emp-inc         1116\n",
              "Federal-gov           960\n",
              "Without-pay            14\n",
              "Never-worked            7\n",
              "Name: workclass, dtype: int64"
            ]
          },
          "metadata": {},
          "execution_count": 421
        }
      ]
    },
    {
      "cell_type": "markdown",
      "source": [
        "Foram identificados 1.836 valores \"?\". Agora vou substituir o \"?\" por NaN"
      ],
      "metadata": {
        "id": "KXCxNLichbdG"
      }
    },
    {
      "cell_type": "code",
      "source": [
        "# substituindo o \"?\" em workclass por \"NaN\"\n",
        "dataset['workclass'].replace('?', np.NaN, inplace=True)\n",
        "# checando novamente a frequência dos valores em workclass\n",
        "dataset.workclass.value_counts()"
      ],
      "metadata": {
        "colab": {
          "base_uri": "https://localhost:8080/"
        },
        "id": "tavwaiRThrcz",
        "outputId": "e2c3cc49-9f18-4654-f06e-782b8986c7b4"
      },
      "execution_count": 422,
      "outputs": [
        {
          "output_type": "execute_result",
          "data": {
            "text/plain": [
              "Private             22696\n",
              "Self-emp-not-inc     2541\n",
              "Local-gov            2093\n",
              "State-gov            1298\n",
              "Self-emp-inc         1116\n",
              "Federal-gov           960\n",
              "Without-pay            14\n",
              "Never-worked            7\n",
              "Name: workclass, dtype: int64"
            ]
          },
          "metadata": {},
          "execution_count": 422
        }
      ]
    },
    {
      "cell_type": "markdown",
      "source": [
        "Agora podemos ver que não há valores como \"?\" na coluna workclass.\n",
        "Farei a mesma coisa com as colunas occupation e native_country."
      ],
      "metadata": {
        "id": "I5K80YMXioR-"
      }
    },
    {
      "cell_type": "code",
      "source": [
        "# Checando a quantidade de valores da coluna occupation\n",
        "dataset.occupation.value_counts()"
      ],
      "metadata": {
        "colab": {
          "base_uri": "https://localhost:8080/"
        },
        "id": "yP756zuUk07H",
        "outputId": "dadec979-c867-4db6-bf17-996edbfb2ac2"
      },
      "execution_count": 423,
      "outputs": [
        {
          "output_type": "execute_result",
          "data": {
            "text/plain": [
              "Prof-specialty       4140\n",
              "Craft-repair         4099\n",
              "Exec-managerial      4066\n",
              "Adm-clerical         3770\n",
              "Sales                3650\n",
              "Other-service        3295\n",
              "Machine-op-inspct    2002\n",
              "?                    1843\n",
              "Transport-moving     1597\n",
              "Handlers-cleaners    1370\n",
              "Farming-fishing       994\n",
              "Tech-support          928\n",
              "Protective-serv       649\n",
              "Priv-house-serv       149\n",
              "Armed-Forces            9\n",
              "Name: occupation, dtype: int64"
            ]
          },
          "metadata": {},
          "execution_count": 423
        }
      ]
    },
    {
      "cell_type": "code",
      "source": [
        "# Substituindo o \"?\" na coluna occupation por \"NaN\"\n",
        "dataset['occupation'].replace('?', np.NaN, inplace=True)\n",
        "# Checando novamente a frequência dos valores na coluna occupation\n",
        "dataset.occupation.value_counts()"
      ],
      "metadata": {
        "colab": {
          "base_uri": "https://localhost:8080/"
        },
        "id": "WyiFabAalGSx",
        "outputId": "12d210bb-88f4-4caf-acdb-4c3532dc9aa5"
      },
      "execution_count": 424,
      "outputs": [
        {
          "output_type": "execute_result",
          "data": {
            "text/plain": [
              "Prof-specialty       4140\n",
              "Craft-repair         4099\n",
              "Exec-managerial      4066\n",
              "Adm-clerical         3770\n",
              "Sales                3650\n",
              "Other-service        3295\n",
              "Machine-op-inspct    2002\n",
              "Transport-moving     1597\n",
              "Handlers-cleaners    1370\n",
              "Farming-fishing       994\n",
              "Tech-support          928\n",
              "Protective-serv       649\n",
              "Priv-house-serv       149\n",
              "Armed-Forces            9\n",
              "Name: occupation, dtype: int64"
            ]
          },
          "metadata": {},
          "execution_count": 424
        }
      ]
    },
    {
      "cell_type": "code",
      "source": [
        "# Checando a quantidade de valores da coluna native_country\n",
        "dataset.native_country.value_counts()"
      ],
      "metadata": {
        "colab": {
          "base_uri": "https://localhost:8080/"
        },
        "id": "FqtFt_aZoL0E",
        "outputId": "7b0ad9e2-8460-4cdc-b840-9e69d45e08ed"
      },
      "execution_count": 425,
      "outputs": [
        {
          "output_type": "execute_result",
          "data": {
            "text/plain": [
              "United-States                 29170\n",
              "Mexico                          643\n",
              "?                               583\n",
              "Philippines                     198\n",
              "Germany                         137\n",
              "Canada                          121\n",
              "Puerto-Rico                     114\n",
              "El-Salvador                     106\n",
              "India                           100\n",
              "Cuba                             95\n",
              "England                          90\n",
              "Jamaica                          81\n",
              "South                            80\n",
              "China                            75\n",
              "Italy                            73\n",
              "Dominican-Republic               70\n",
              "Vietnam                          67\n",
              "Guatemala                        64\n",
              "Japan                            62\n",
              "Poland                           60\n",
              "Columbia                         59\n",
              "Taiwan                           51\n",
              "Haiti                            44\n",
              "Iran                             43\n",
              "Portugal                         37\n",
              "Nicaragua                        34\n",
              "Peru                             31\n",
              "France                           29\n",
              "Greece                           29\n",
              "Ecuador                          28\n",
              "Ireland                          24\n",
              "Hong                             20\n",
              "Cambodia                         19\n",
              "Trinadad&Tobago                  19\n",
              "Laos                             18\n",
              "Thailand                         18\n",
              "Yugoslavia                       16\n",
              "Outlying-US(Guam-USVI-etc)       14\n",
              "Honduras                         13\n",
              "Hungary                          13\n",
              "Scotland                         12\n",
              "Holand-Netherlands                1\n",
              "Name: native_country, dtype: int64"
            ]
          },
          "metadata": {},
          "execution_count": 425
        }
      ]
    },
    {
      "cell_type": "code",
      "source": [
        "# Substituindo o \"?\" na coluna occupation por \"NaN\"\n",
        "dataset['native_country'].replace('?', np.NaN, inplace=True)\n",
        "# Checando novamente a frequência dos valores na coluna native_country\n",
        "dataset.native_country.value_counts()"
      ],
      "metadata": {
        "colab": {
          "base_uri": "https://localhost:8080/"
        },
        "id": "ju3vmrbmoYO5",
        "outputId": "63b59072-9915-49d9-9b77-b744fec7d08e"
      },
      "execution_count": 426,
      "outputs": [
        {
          "output_type": "execute_result",
          "data": {
            "text/plain": [
              "United-States                 29170\n",
              "Mexico                          643\n",
              "Philippines                     198\n",
              "Germany                         137\n",
              "Canada                          121\n",
              "Puerto-Rico                     114\n",
              "El-Salvador                     106\n",
              "India                           100\n",
              "Cuba                             95\n",
              "England                          90\n",
              "Jamaica                          81\n",
              "South                            80\n",
              "China                            75\n",
              "Italy                            73\n",
              "Dominican-Republic               70\n",
              "Vietnam                          67\n",
              "Guatemala                        64\n",
              "Japan                            62\n",
              "Poland                           60\n",
              "Columbia                         59\n",
              "Taiwan                           51\n",
              "Haiti                            44\n",
              "Iran                             43\n",
              "Portugal                         37\n",
              "Nicaragua                        34\n",
              "Peru                             31\n",
              "France                           29\n",
              "Greece                           29\n",
              "Ecuador                          28\n",
              "Ireland                          24\n",
              "Hong                             20\n",
              "Cambodia                         19\n",
              "Trinadad&Tobago                  19\n",
              "Laos                             18\n",
              "Thailand                         18\n",
              "Yugoslavia                       16\n",
              "Outlying-US(Guam-USVI-etc)       14\n",
              "Honduras                         13\n",
              "Hungary                          13\n",
              "Scotland                         12\n",
              "Holand-Netherlands                1\n",
              "Name: native_country, dtype: int64"
            ]
          },
          "metadata": {},
          "execution_count": 426
        }
      ]
    },
    {
      "cell_type": "markdown",
      "source": [
        "Agora checaremos novamente a quantidade de valores ausentes existentes nas colunas qualitativas."
      ],
      "metadata": {
        "id": "OWsbtZ6Opqf7"
      }
    },
    {
      "cell_type": "code",
      "source": [
        "# Quantidade de valores ausentes\n",
        "dataset[colunascategoricas].isnull().sum()"
      ],
      "metadata": {
        "colab": {
          "base_uri": "https://localhost:8080/"
        },
        "id": "MS5pk61Cpxw7",
        "outputId": "4639a066-f0fd-4bc8-bf7e-ef8036787d22"
      },
      "execution_count": 427,
      "outputs": [
        {
          "output_type": "execute_result",
          "data": {
            "text/plain": [
              "workclass         1836\n",
              "education            0\n",
              "marital_status       0\n",
              "occupation        1843\n",
              "relationship         0\n",
              "race                 0\n",
              "sex                  0\n",
              "native_country     583\n",
              "income               0\n",
              "dtype: int64"
            ]
          },
          "metadata": {},
          "execution_count": 427
        }
      ]
    },
    {
      "cell_type": "markdown",
      "source": [
        "Agora vimos que as colunas workclass, occupation e native_country possuem valores ausentes."
      ],
      "metadata": {
        "id": "6LwsFS2Aqdo4"
      }
    },
    {
      "cell_type": "markdown",
      "source": [
        "Explorando as colunas com valores numéricos."
      ],
      "metadata": {
        "id": "SfvN128psszr"
      }
    },
    {
      "cell_type": "code",
      "source": [
        "# Procurar colunas com valores numéricos\n",
        "\n",
        "colunanumerica = [coluna for coluna in dataset.columns if dataset[coluna].dtype!='O']\n",
        "\n",
        "print('São {} colunas com valores numéricos\\n'.format(len(colunanumerica)))\n",
        "\n",
        "print('As colunas com valores numéricos são:', colunanumerica)"
      ],
      "metadata": {
        "colab": {
          "base_uri": "https://localhost:8080/"
        },
        "id": "zzn4O0Xor8Da",
        "outputId": "879f98f9-3b10-4bb3-f458-50f377a6381c"
      },
      "execution_count": 428,
      "outputs": [
        {
          "output_type": "stream",
          "name": "stdout",
          "text": [
            "São 6 colunas com valores numéricos\n",
            "\n",
            "As colunas com valores numéricos são: ['age', 'fnlwgt', 'education_num', 'capital_gain', 'capital_loss', 'hours_per_week']\n"
          ]
        }
      ]
    },
    {
      "cell_type": "code",
      "source": [
        "# Visualizar os valores das colunas que contém números\n",
        "dataset[colunanumerica].head()"
      ],
      "metadata": {
        "colab": {
          "base_uri": "https://localhost:8080/",
          "height": 206
        },
        "id": "LvcvoefJszxE",
        "outputId": "aa5feb7c-cd0a-49cc-9190-9b0a479be9d9"
      },
      "execution_count": 429,
      "outputs": [
        {
          "output_type": "execute_result",
          "data": {
            "text/plain": [
              "   age  fnlwgt  education_num  capital_gain  capital_loss  hours_per_week\n",
              "0   39   77516             13          2174             0              40\n",
              "1   50   83311             13             0             0              13\n",
              "2   38  215646              9             0             0              40\n",
              "3   53  234721              7             0             0              40\n",
              "4   28  338409             13             0             0              40"
            ],
            "text/html": [
              "\n",
              "  <div id=\"df-3f10bfb2-45c5-4a37-a171-170c02361e5f\">\n",
              "    <div class=\"colab-df-container\">\n",
              "      <div>\n",
              "<style scoped>\n",
              "    .dataframe tbody tr th:only-of-type {\n",
              "        vertical-align: middle;\n",
              "    }\n",
              "\n",
              "    .dataframe tbody tr th {\n",
              "        vertical-align: top;\n",
              "    }\n",
              "\n",
              "    .dataframe thead th {\n",
              "        text-align: right;\n",
              "    }\n",
              "</style>\n",
              "<table border=\"1\" class=\"dataframe\">\n",
              "  <thead>\n",
              "    <tr style=\"text-align: right;\">\n",
              "      <th></th>\n",
              "      <th>age</th>\n",
              "      <th>fnlwgt</th>\n",
              "      <th>education_num</th>\n",
              "      <th>capital_gain</th>\n",
              "      <th>capital_loss</th>\n",
              "      <th>hours_per_week</th>\n",
              "    </tr>\n",
              "  </thead>\n",
              "  <tbody>\n",
              "    <tr>\n",
              "      <th>0</th>\n",
              "      <td>39</td>\n",
              "      <td>77516</td>\n",
              "      <td>13</td>\n",
              "      <td>2174</td>\n",
              "      <td>0</td>\n",
              "      <td>40</td>\n",
              "    </tr>\n",
              "    <tr>\n",
              "      <th>1</th>\n",
              "      <td>50</td>\n",
              "      <td>83311</td>\n",
              "      <td>13</td>\n",
              "      <td>0</td>\n",
              "      <td>0</td>\n",
              "      <td>13</td>\n",
              "    </tr>\n",
              "    <tr>\n",
              "      <th>2</th>\n",
              "      <td>38</td>\n",
              "      <td>215646</td>\n",
              "      <td>9</td>\n",
              "      <td>0</td>\n",
              "      <td>0</td>\n",
              "      <td>40</td>\n",
              "    </tr>\n",
              "    <tr>\n",
              "      <th>3</th>\n",
              "      <td>53</td>\n",
              "      <td>234721</td>\n",
              "      <td>7</td>\n",
              "      <td>0</td>\n",
              "      <td>0</td>\n",
              "      <td>40</td>\n",
              "    </tr>\n",
              "    <tr>\n",
              "      <th>4</th>\n",
              "      <td>28</td>\n",
              "      <td>338409</td>\n",
              "      <td>13</td>\n",
              "      <td>0</td>\n",
              "      <td>0</td>\n",
              "      <td>40</td>\n",
              "    </tr>\n",
              "  </tbody>\n",
              "</table>\n",
              "</div>\n",
              "      <button class=\"colab-df-convert\" onclick=\"convertToInteractive('df-3f10bfb2-45c5-4a37-a171-170c02361e5f')\"\n",
              "              title=\"Convert this dataframe to an interactive table.\"\n",
              "              style=\"display:none;\">\n",
              "        \n",
              "  <svg xmlns=\"http://www.w3.org/2000/svg\" height=\"24px\"viewBox=\"0 0 24 24\"\n",
              "       width=\"24px\">\n",
              "    <path d=\"M0 0h24v24H0V0z\" fill=\"none\"/>\n",
              "    <path d=\"M18.56 5.44l.94 2.06.94-2.06 2.06-.94-2.06-.94-.94-2.06-.94 2.06-2.06.94zm-11 1L8.5 8.5l.94-2.06 2.06-.94-2.06-.94L8.5 2.5l-.94 2.06-2.06.94zm10 10l.94 2.06.94-2.06 2.06-.94-2.06-.94-.94-2.06-.94 2.06-2.06.94z\"/><path d=\"M17.41 7.96l-1.37-1.37c-.4-.4-.92-.59-1.43-.59-.52 0-1.04.2-1.43.59L10.3 9.45l-7.72 7.72c-.78.78-.78 2.05 0 2.83L4 21.41c.39.39.9.59 1.41.59.51 0 1.02-.2 1.41-.59l7.78-7.78 2.81-2.81c.8-.78.8-2.07 0-2.86zM5.41 20L4 18.59l7.72-7.72 1.47 1.35L5.41 20z\"/>\n",
              "  </svg>\n",
              "      </button>\n",
              "      \n",
              "  <style>\n",
              "    .colab-df-container {\n",
              "      display:flex;\n",
              "      flex-wrap:wrap;\n",
              "      gap: 12px;\n",
              "    }\n",
              "\n",
              "    .colab-df-convert {\n",
              "      background-color: #E8F0FE;\n",
              "      border: none;\n",
              "      border-radius: 50%;\n",
              "      cursor: pointer;\n",
              "      display: none;\n",
              "      fill: #1967D2;\n",
              "      height: 32px;\n",
              "      padding: 0 0 0 0;\n",
              "      width: 32px;\n",
              "    }\n",
              "\n",
              "    .colab-df-convert:hover {\n",
              "      background-color: #E2EBFA;\n",
              "      box-shadow: 0px 1px 2px rgba(60, 64, 67, 0.3), 0px 1px 3px 1px rgba(60, 64, 67, 0.15);\n",
              "      fill: #174EA6;\n",
              "    }\n",
              "\n",
              "    [theme=dark] .colab-df-convert {\n",
              "      background-color: #3B4455;\n",
              "      fill: #D2E3FC;\n",
              "    }\n",
              "\n",
              "    [theme=dark] .colab-df-convert:hover {\n",
              "      background-color: #434B5C;\n",
              "      box-shadow: 0px 1px 3px 1px rgba(0, 0, 0, 0.15);\n",
              "      filter: drop-shadow(0px 1px 2px rgba(0, 0, 0, 0.3));\n",
              "      fill: #FFFFFF;\n",
              "    }\n",
              "  </style>\n",
              "\n",
              "      <script>\n",
              "        const buttonEl =\n",
              "          document.querySelector('#df-3f10bfb2-45c5-4a37-a171-170c02361e5f button.colab-df-convert');\n",
              "        buttonEl.style.display =\n",
              "          google.colab.kernel.accessAllowed ? 'block' : 'none';\n",
              "\n",
              "        async function convertToInteractive(key) {\n",
              "          const element = document.querySelector('#df-3f10bfb2-45c5-4a37-a171-170c02361e5f');\n",
              "          const dataTable =\n",
              "            await google.colab.kernel.invokeFunction('convertToInteractive',\n",
              "                                                     [key], {});\n",
              "          if (!dataTable) return;\n",
              "\n",
              "          const docLinkHtml = 'Like what you see? Visit the ' +\n",
              "            '<a target=\"_blank\" href=https://colab.research.google.com/notebooks/data_table.ipynb>data table notebook</a>'\n",
              "            + ' to learn more about interactive tables.';\n",
              "          element.innerHTML = '';\n",
              "          dataTable['output_type'] = 'display_data';\n",
              "          await google.colab.output.renderOutput(dataTable, element);\n",
              "          const docLink = document.createElement('div');\n",
              "          docLink.innerHTML = docLinkHtml;\n",
              "          element.appendChild(docLink);\n",
              "        }\n",
              "      </script>\n",
              "    </div>\n",
              "  </div>\n",
              "  "
            ]
          },
          "metadata": {},
          "execution_count": 429
        }
      ]
    },
    {
      "cell_type": "markdown",
      "source": [
        "Agora vamos checar se as colunas que contém valores numéricos possuem valores ausentes."
      ],
      "metadata": {
        "id": "WI_VYu1StY24"
      }
    },
    {
      "cell_type": "code",
      "source": [
        "# Checando valores ausentes nas colunas numéricas\n",
        "\n",
        "dataset[colunanumerica].isnull().sum()"
      ],
      "metadata": {
        "colab": {
          "base_uri": "https://localhost:8080/"
        },
        "id": "KW8geacuthxT",
        "outputId": "354c8cfa-3056-4c21-de97-8e1249403dba"
      },
      "execution_count": 430,
      "outputs": [
        {
          "output_type": "execute_result",
          "data": {
            "text/plain": [
              "age               0\n",
              "fnlwgt            0\n",
              "education_num     0\n",
              "capital_gain      0\n",
              "capital_loss      0\n",
              "hours_per_week    0\n",
              "dtype: int64"
            ]
          },
          "metadata": {},
          "execution_count": 430
        }
      ]
    },
    {
      "cell_type": "markdown",
      "source": [
        "Podemos verificar que as 6 colunas acima não possuem valores ausentes."
      ],
      "metadata": {
        "id": "0fvdfXKyt60g"
      }
    },
    {
      "cell_type": "code",
      "source": [
        "# Visualizar novamente o percentual de valores ausentes nas colunas de valores qualitativos\n",
        "dataset[colunascategoricas].isnull().mean() * 100"
      ],
      "metadata": {
        "colab": {
          "base_uri": "https://localhost:8080/"
        },
        "id": "Lyruhn2DGFqe",
        "outputId": "98937fa4-bff4-4e57-e1e8-a34058d66dc4"
      },
      "execution_count": 431,
      "outputs": [
        {
          "output_type": "execute_result",
          "data": {
            "text/plain": [
              "workclass         5.638647\n",
              "education         0.000000\n",
              "marital_status    0.000000\n",
              "occupation        5.660146\n",
              "relationship      0.000000\n",
              "race              0.000000\n",
              "sex               0.000000\n",
              "native_country    1.790486\n",
              "income            0.000000\n",
              "dtype: float64"
            ]
          },
          "metadata": {},
          "execution_count": 431
        }
      ]
    },
    {
      "cell_type": "markdown",
      "source": [
        "Como verificado anteriormente, apenas as colunas workclass, occupation e native_country possuem valores ausentes, e como a quantidade de valores em cada coluna representam apenas uma pequena amostra do total, preferi retirar do dataset todas as linhas com algum valor ausente em uma das 3 colunas do que usar algum método de substituição."
      ],
      "metadata": {
        "id": "nrffo-1dDk4A"
      }
    },
    {
      "cell_type": "code",
      "source": [
        "# Dataset original ainda com os valores ausentes\n",
        "dataset.info()"
      ],
      "metadata": {
        "colab": {
          "base_uri": "https://localhost:8080/"
        },
        "id": "UvsGLlKMD9w2",
        "outputId": "7128c4ad-cb3d-4346-aba7-915647987fef"
      },
      "execution_count": 432,
      "outputs": [
        {
          "output_type": "stream",
          "name": "stdout",
          "text": [
            "<class 'pandas.core.frame.DataFrame'>\n",
            "RangeIndex: 32561 entries, 0 to 32560\n",
            "Data columns (total 15 columns):\n",
            " #   Column          Non-Null Count  Dtype \n",
            "---  ------          --------------  ----- \n",
            " 0   age             32561 non-null  int64 \n",
            " 1   workclass       30725 non-null  object\n",
            " 2   fnlwgt          32561 non-null  int64 \n",
            " 3   education       32561 non-null  object\n",
            " 4   education_num   32561 non-null  int64 \n",
            " 5   marital_status  32561 non-null  object\n",
            " 6   occupation      30718 non-null  object\n",
            " 7   relationship    32561 non-null  object\n",
            " 8   race            32561 non-null  object\n",
            " 9   sex             32561 non-null  object\n",
            " 10  capital_gain    32561 non-null  int64 \n",
            " 11  capital_loss    32561 non-null  int64 \n",
            " 12  hours_per_week  32561 non-null  int64 \n",
            " 13  native_country  31978 non-null  object\n",
            " 14  income          32561 non-null  object\n",
            "dtypes: int64(6), object(9)\n",
            "memory usage: 3.7+ MB\n"
          ]
        }
      ]
    },
    {
      "cell_type": "code",
      "source": [
        "# Retirar as linhas com valores ausentes\n",
        "dataset = pd.DataFrame(dataset)\n",
        "dataset = dataset.dropna()\n",
        "# Dataset sem os valores ausentes\n",
        "dataset.info()"
      ],
      "metadata": {
        "colab": {
          "base_uri": "https://localhost:8080/"
        },
        "id": "0NVoNYg4DPlE",
        "outputId": "293acbdc-cd28-4a5a-a8fa-f90c34713208"
      },
      "execution_count": 433,
      "outputs": [
        {
          "output_type": "stream",
          "name": "stdout",
          "text": [
            "<class 'pandas.core.frame.DataFrame'>\n",
            "Int64Index: 30162 entries, 0 to 32560\n",
            "Data columns (total 15 columns):\n",
            " #   Column          Non-Null Count  Dtype \n",
            "---  ------          --------------  ----- \n",
            " 0   age             30162 non-null  int64 \n",
            " 1   workclass       30162 non-null  object\n",
            " 2   fnlwgt          30162 non-null  int64 \n",
            " 3   education       30162 non-null  object\n",
            " 4   education_num   30162 non-null  int64 \n",
            " 5   marital_status  30162 non-null  object\n",
            " 6   occupation      30162 non-null  object\n",
            " 7   relationship    30162 non-null  object\n",
            " 8   race            30162 non-null  object\n",
            " 9   sex             30162 non-null  object\n",
            " 10  capital_gain    30162 non-null  int64 \n",
            " 11  capital_loss    30162 non-null  int64 \n",
            " 12  hours_per_week  30162 non-null  int64 \n",
            " 13  native_country  30162 non-null  object\n",
            " 14  income          30162 non-null  object\n",
            "dtypes: int64(6), object(9)\n",
            "memory usage: 3.7+ MB\n"
          ]
        }
      ]
    },
    {
      "cell_type": "markdown",
      "source": [
        "##**5 - Feature Engineering and Selection**##"
      ],
      "metadata": {
        "id": "-WyKjOcN_gjs"
      }
    },
    {
      "cell_type": "markdown",
      "source": [
        "A variável 'education' e 'education_num' estão correlacionadas, neste caso será extraída a coluna 'education' para reduzir a redundância dos valores.\n",
        "\n",
        "![image.png](data:image/png;base64,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)"
      ],
      "metadata": {
        "id": "X605-XJuBdHQ"
      }
    },
    {
      "cell_type": "code",
      "source": [
        "# Extraindo a coluna 'education'\n",
        "dataset = dataset.drop(['education'], axis = 1)\n",
        "dataset.head()"
      ],
      "metadata": {
        "colab": {
          "base_uri": "https://localhost:8080/",
          "height": 206
        },
        "id": "mH_2G-X8_0Wv",
        "outputId": "068e7ac7-abce-4e3d-b5aa-841fdc547c51"
      },
      "execution_count": 434,
      "outputs": [
        {
          "output_type": "execute_result",
          "data": {
            "text/plain": [
              "   age         workclass  fnlwgt  education_num      marital_status  \\\n",
              "0   39         State-gov   77516             13       Never-married   \n",
              "1   50  Self-emp-not-inc   83311             13  Married-civ-spouse   \n",
              "2   38           Private  215646              9            Divorced   \n",
              "3   53           Private  234721              7  Married-civ-spouse   \n",
              "4   28           Private  338409             13  Married-civ-spouse   \n",
              "\n",
              "          occupation   relationship   race     sex  capital_gain  \\\n",
              "0       Adm-clerical  Not-in-family  White    Male          2174   \n",
              "1    Exec-managerial        Husband  White    Male             0   \n",
              "2  Handlers-cleaners  Not-in-family  White    Male             0   \n",
              "3  Handlers-cleaners        Husband  Black    Male             0   \n",
              "4     Prof-specialty           Wife  Black  Female             0   \n",
              "\n",
              "   capital_loss  hours_per_week native_country income  \n",
              "0             0              40  United-States  <=50K  \n",
              "1             0              13  United-States  <=50K  \n",
              "2             0              40  United-States  <=50K  \n",
              "3             0              40  United-States  <=50K  \n",
              "4             0              40           Cuba  <=50K  "
            ],
            "text/html": [
              "\n",
              "  <div id=\"df-3e03878a-eac2-4c56-9b1f-25977dee6f1b\">\n",
              "    <div class=\"colab-df-container\">\n",
              "      <div>\n",
              "<style scoped>\n",
              "    .dataframe tbody tr th:only-of-type {\n",
              "        vertical-align: middle;\n",
              "    }\n",
              "\n",
              "    .dataframe tbody tr th {\n",
              "        vertical-align: top;\n",
              "    }\n",
              "\n",
              "    .dataframe thead th {\n",
              "        text-align: right;\n",
              "    }\n",
              "</style>\n",
              "<table border=\"1\" class=\"dataframe\">\n",
              "  <thead>\n",
              "    <tr style=\"text-align: right;\">\n",
              "      <th></th>\n",
              "      <th>age</th>\n",
              "      <th>workclass</th>\n",
              "      <th>fnlwgt</th>\n",
              "      <th>education_num</th>\n",
              "      <th>marital_status</th>\n",
              "      <th>occupation</th>\n",
              "      <th>relationship</th>\n",
              "      <th>race</th>\n",
              "      <th>sex</th>\n",
              "      <th>capital_gain</th>\n",
              "      <th>capital_loss</th>\n",
              "      <th>hours_per_week</th>\n",
              "      <th>native_country</th>\n",
              "      <th>income</th>\n",
              "    </tr>\n",
              "  </thead>\n",
              "  <tbody>\n",
              "    <tr>\n",
              "      <th>0</th>\n",
              "      <td>39</td>\n",
              "      <td>State-gov</td>\n",
              "      <td>77516</td>\n",
              "      <td>13</td>\n",
              "      <td>Never-married</td>\n",
              "      <td>Adm-clerical</td>\n",
              "      <td>Not-in-family</td>\n",
              "      <td>White</td>\n",
              "      <td>Male</td>\n",
              "      <td>2174</td>\n",
              "      <td>0</td>\n",
              "      <td>40</td>\n",
              "      <td>United-States</td>\n",
              "      <td>&lt;=50K</td>\n",
              "    </tr>\n",
              "    <tr>\n",
              "      <th>1</th>\n",
              "      <td>50</td>\n",
              "      <td>Self-emp-not-inc</td>\n",
              "      <td>83311</td>\n",
              "      <td>13</td>\n",
              "      <td>Married-civ-spouse</td>\n",
              "      <td>Exec-managerial</td>\n",
              "      <td>Husband</td>\n",
              "      <td>White</td>\n",
              "      <td>Male</td>\n",
              "      <td>0</td>\n",
              "      <td>0</td>\n",
              "      <td>13</td>\n",
              "      <td>United-States</td>\n",
              "      <td>&lt;=50K</td>\n",
              "    </tr>\n",
              "    <tr>\n",
              "      <th>2</th>\n",
              "      <td>38</td>\n",
              "      <td>Private</td>\n",
              "      <td>215646</td>\n",
              "      <td>9</td>\n",
              "      <td>Divorced</td>\n",
              "      <td>Handlers-cleaners</td>\n",
              "      <td>Not-in-family</td>\n",
              "      <td>White</td>\n",
              "      <td>Male</td>\n",
              "      <td>0</td>\n",
              "      <td>0</td>\n",
              "      <td>40</td>\n",
              "      <td>United-States</td>\n",
              "      <td>&lt;=50K</td>\n",
              "    </tr>\n",
              "    <tr>\n",
              "      <th>3</th>\n",
              "      <td>53</td>\n",
              "      <td>Private</td>\n",
              "      <td>234721</td>\n",
              "      <td>7</td>\n",
              "      <td>Married-civ-spouse</td>\n",
              "      <td>Handlers-cleaners</td>\n",
              "      <td>Husband</td>\n",
              "      <td>Black</td>\n",
              "      <td>Male</td>\n",
              "      <td>0</td>\n",
              "      <td>0</td>\n",
              "      <td>40</td>\n",
              "      <td>United-States</td>\n",
              "      <td>&lt;=50K</td>\n",
              "    </tr>\n",
              "    <tr>\n",
              "      <th>4</th>\n",
              "      <td>28</td>\n",
              "      <td>Private</td>\n",
              "      <td>338409</td>\n",
              "      <td>13</td>\n",
              "      <td>Married-civ-spouse</td>\n",
              "      <td>Prof-specialty</td>\n",
              "      <td>Wife</td>\n",
              "      <td>Black</td>\n",
              "      <td>Female</td>\n",
              "      <td>0</td>\n",
              "      <td>0</td>\n",
              "      <td>40</td>\n",
              "      <td>Cuba</td>\n",
              "      <td>&lt;=50K</td>\n",
              "    </tr>\n",
              "  </tbody>\n",
              "</table>\n",
              "</div>\n",
              "      <button class=\"colab-df-convert\" onclick=\"convertToInteractive('df-3e03878a-eac2-4c56-9b1f-25977dee6f1b')\"\n",
              "              title=\"Convert this dataframe to an interactive table.\"\n",
              "              style=\"display:none;\">\n",
              "        \n",
              "  <svg xmlns=\"http://www.w3.org/2000/svg\" height=\"24px\"viewBox=\"0 0 24 24\"\n",
              "       width=\"24px\">\n",
              "    <path d=\"M0 0h24v24H0V0z\" fill=\"none\"/>\n",
              "    <path d=\"M18.56 5.44l.94 2.06.94-2.06 2.06-.94-2.06-.94-.94-2.06-.94 2.06-2.06.94zm-11 1L8.5 8.5l.94-2.06 2.06-.94-2.06-.94L8.5 2.5l-.94 2.06-2.06.94zm10 10l.94 2.06.94-2.06 2.06-.94-2.06-.94-.94-2.06-.94 2.06-2.06.94z\"/><path d=\"M17.41 7.96l-1.37-1.37c-.4-.4-.92-.59-1.43-.59-.52 0-1.04.2-1.43.59L10.3 9.45l-7.72 7.72c-.78.78-.78 2.05 0 2.83L4 21.41c.39.39.9.59 1.41.59.51 0 1.02-.2 1.41-.59l7.78-7.78 2.81-2.81c.8-.78.8-2.07 0-2.86zM5.41 20L4 18.59l7.72-7.72 1.47 1.35L5.41 20z\"/>\n",
              "  </svg>\n",
              "      </button>\n",
              "      \n",
              "  <style>\n",
              "    .colab-df-container {\n",
              "      display:flex;\n",
              "      flex-wrap:wrap;\n",
              "      gap: 12px;\n",
              "    }\n",
              "\n",
              "    .colab-df-convert {\n",
              "      background-color: #E8F0FE;\n",
              "      border: none;\n",
              "      border-radius: 50%;\n",
              "      cursor: pointer;\n",
              "      display: none;\n",
              "      fill: #1967D2;\n",
              "      height: 32px;\n",
              "      padding: 0 0 0 0;\n",
              "      width: 32px;\n",
              "    }\n",
              "\n",
              "    .colab-df-convert:hover {\n",
              "      background-color: #E2EBFA;\n",
              "      box-shadow: 0px 1px 2px rgba(60, 64, 67, 0.3), 0px 1px 3px 1px rgba(60, 64, 67, 0.15);\n",
              "      fill: #174EA6;\n",
              "    }\n",
              "\n",
              "    [theme=dark] .colab-df-convert {\n",
              "      background-color: #3B4455;\n",
              "      fill: #D2E3FC;\n",
              "    }\n",
              "\n",
              "    [theme=dark] .colab-df-convert:hover {\n",
              "      background-color: #434B5C;\n",
              "      box-shadow: 0px 1px 3px 1px rgba(0, 0, 0, 0.15);\n",
              "      filter: drop-shadow(0px 1px 2px rgba(0, 0, 0, 0.3));\n",
              "      fill: #FFFFFF;\n",
              "    }\n",
              "  </style>\n",
              "\n",
              "      <script>\n",
              "        const buttonEl =\n",
              "          document.querySelector('#df-3e03878a-eac2-4c56-9b1f-25977dee6f1b button.colab-df-convert');\n",
              "        buttonEl.style.display =\n",
              "          google.colab.kernel.accessAllowed ? 'block' : 'none';\n",
              "\n",
              "        async function convertToInteractive(key) {\n",
              "          const element = document.querySelector('#df-3e03878a-eac2-4c56-9b1f-25977dee6f1b');\n",
              "          const dataTable =\n",
              "            await google.colab.kernel.invokeFunction('convertToInteractive',\n",
              "                                                     [key], {});\n",
              "          if (!dataTable) return;\n",
              "\n",
              "          const docLinkHtml = 'Like what you see? Visit the ' +\n",
              "            '<a target=\"_blank\" href=https://colab.research.google.com/notebooks/data_table.ipynb>data table notebook</a>'\n",
              "            + ' to learn more about interactive tables.';\n",
              "          element.innerHTML = '';\n",
              "          dataTable['output_type'] = 'display_data';\n",
              "          await google.colab.output.renderOutput(dataTable, element);\n",
              "          const docLink = document.createElement('div');\n",
              "          docLink.innerHTML = docLinkHtml;\n",
              "          element.appendChild(docLink);\n",
              "        }\n",
              "      </script>\n",
              "    </div>\n",
              "  </div>\n",
              "  "
            ]
          },
          "metadata": {},
          "execution_count": 434
        }
      ]
    },
    {
      "cell_type": "markdown",
      "source": [
        "##**6 - Separando em conjuntos de treino e teste**"
      ],
      "metadata": {
        "id": "vte6rdl5azGv"
      }
    },
    {
      "cell_type": "code",
      "source": [
        "test_size = 0.30 # tamanho do conjunto de teste\n",
        "seed = 7 # semente aleatória\n",
        "\n",
        "# Declarando feature vector e target\n",
        "X = dataset.drop(['income'], axis=1)\n",
        "y = dataset['income']\n",
        "\n",
        "# Separação em conjuntos de treino e teste\n",
        "X_train, X_test, y_train, y_test = train_test_split(X, y,\n",
        "    test_size=test_size, shuffle=True, random_state=seed, stratify=y) # holdout com estratificação\n",
        "\n",
        "# Parâmetros e partições da validação cruzada\n",
        "scoring = 'accuracy'\n",
        "num_particoes = 10\n",
        "kfold = StratifiedKFold(n_splits=num_particoes, shuffle=True, random_state=seed) # validação cruzada com estratificação\n",
        "\n",
        "# Checando o shape de X_train and X_test\n",
        "X_train.shape, X_test.shape"
      ],
      "metadata": {
        "colab": {
          "base_uri": "https://localhost:8080/"
        },
        "id": "qWgbwmF3t6Bv",
        "outputId": "53517212-2091-4de1-8b59-46e2fd2332f6"
      },
      "execution_count": 435,
      "outputs": [
        {
          "output_type": "execute_result",
          "data": {
            "text/plain": [
              "((21113, 13), (9049, 13))"
            ]
          },
          "metadata": {},
          "execution_count": 435
        }
      ]
    },
    {
      "cell_type": "code",
      "source": [
        "# Checando os valores ausentes em X_train\n",
        "\n",
        "X_train.isnull().sum()"
      ],
      "metadata": {
        "colab": {
          "base_uri": "https://localhost:8080/"
        },
        "id": "v1qAEeCLy-Tm",
        "outputId": "d259f65b-ca18-4fd0-eacd-8334080961aa"
      },
      "execution_count": 436,
      "outputs": [
        {
          "output_type": "execute_result",
          "data": {
            "text/plain": [
              "age               0\n",
              "workclass         0\n",
              "fnlwgt            0\n",
              "education_num     0\n",
              "marital_status    0\n",
              "occupation        0\n",
              "relationship      0\n",
              "race              0\n",
              "sex               0\n",
              "capital_gain      0\n",
              "capital_loss      0\n",
              "hours_per_week    0\n",
              "native_country    0\n",
              "dtype: int64"
            ]
          },
          "metadata": {},
          "execution_count": 436
        }
      ]
    },
    {
      "cell_type": "code",
      "source": [
        "# Checando os valores ausentes em X_teste\n",
        "\n",
        "X_test.isnull().sum()"
      ],
      "metadata": {
        "colab": {
          "base_uri": "https://localhost:8080/"
        },
        "id": "Bjj-YGsXzQjs",
        "outputId": "a765594a-d174-4e9a-b972-4fcce4f23f11"
      },
      "execution_count": 437,
      "outputs": [
        {
          "output_type": "execute_result",
          "data": {
            "text/plain": [
              "age               0\n",
              "workclass         0\n",
              "fnlwgt            0\n",
              "education_num     0\n",
              "marital_status    0\n",
              "occupation        0\n",
              "relationship      0\n",
              "race              0\n",
              "sex               0\n",
              "capital_gain      0\n",
              "capital_loss      0\n",
              "hours_per_week    0\n",
              "native_country    0\n",
              "dtype: int64"
            ]
          },
          "metadata": {},
          "execution_count": 437
        }
      ]
    },
    {
      "cell_type": "markdown",
      "source": [
        "Agora vou converter as colunas qualitativas em numéricas."
      ],
      "metadata": {
        "id": "E1WvsWAYZZhq"
      }
    },
    {
      "cell_type": "code",
      "source": [
        "# Codificação one-hot\n",
        "\n",
        "encoder = ce.OneHotEncoder(cols=['workclass', 'marital_status', 'occupation', 'relationship',\n",
        "                                 'race', 'sex', 'native_country'])\n",
        "\n",
        "X_train = encoder.fit_transform(X_train)\n",
        "\n",
        "X_test = encoder.transform(X_test)\n",
        "\n",
        "X_train.head()"
      ],
      "metadata": {
        "colab": {
          "base_uri": "https://localhost:8080/",
          "height": 299
        },
        "id": "o43OGHZu061r",
        "outputId": "d3742b27-2910-4824-d147-f07a5b770978"
      },
      "execution_count": 438,
      "outputs": [
        {
          "output_type": "execute_result",
          "data": {
            "text/plain": [
              "       age  workclass_1  workclass_2  workclass_3  workclass_4  workclass_5  \\\n",
              "12234   27            1            0            0            0            0   \n",
              "11671   36            1            0            0            0            0   \n",
              "13673   21            1            0            0            0            0   \n",
              "29829   50            1            0            0            0            0   \n",
              "26107   43            1            0            0            0            0   \n",
              "\n",
              "       workclass_6  workclass_7  fnlwgt  education_num  ...  \\\n",
              "12234            0            0  171655              9  ...   \n",
              "11671            0            0  177285             11  ...   \n",
              "13673            0            0  162228             10  ...   \n",
              "29829            0            0   46155             11  ...   \n",
              "26107            0            0  193490              4  ...   \n",
              "\n",
              "       native_country_32  native_country_33  native_country_34  \\\n",
              "12234                  0                  0                  0   \n",
              "11671                  0                  0                  0   \n",
              "13673                  0                  0                  0   \n",
              "29829                  0                  0                  0   \n",
              "26107                  0                  0                  0   \n",
              "\n",
              "       native_country_35  native_country_36  native_country_37  \\\n",
              "12234                  0                  0                  0   \n",
              "11671                  0                  0                  0   \n",
              "13673                  0                  0                  0   \n",
              "29829                  0                  0                  0   \n",
              "26107                  0                  0                  0   \n",
              "\n",
              "       native_country_38  native_country_39  native_country_40  \\\n",
              "12234                  0                  0                  0   \n",
              "11671                  0                  0                  0   \n",
              "13673                  0                  0                  0   \n",
              "29829                  0                  0                  0   \n",
              "26107                  0                  0                  0   \n",
              "\n",
              "       native_country_41  \n",
              "12234                  0  \n",
              "11671                  0  \n",
              "13673                  0  \n",
              "29829                  0  \n",
              "26107                  0  \n",
              "\n",
              "[5 rows x 88 columns]"
            ],
            "text/html": [
              "\n",
              "  <div id=\"df-fcf06722-aaee-47c1-99dd-42fdd7241fd7\">\n",
              "    <div class=\"colab-df-container\">\n",
              "      <div>\n",
              "<style scoped>\n",
              "    .dataframe tbody tr th:only-of-type {\n",
              "        vertical-align: middle;\n",
              "    }\n",
              "\n",
              "    .dataframe tbody tr th {\n",
              "        vertical-align: top;\n",
              "    }\n",
              "\n",
              "    .dataframe thead th {\n",
              "        text-align: right;\n",
              "    }\n",
              "</style>\n",
              "<table border=\"1\" class=\"dataframe\">\n",
              "  <thead>\n",
              "    <tr style=\"text-align: right;\">\n",
              "      <th></th>\n",
              "      <th>age</th>\n",
              "      <th>workclass_1</th>\n",
              "      <th>workclass_2</th>\n",
              "      <th>workclass_3</th>\n",
              "      <th>workclass_4</th>\n",
              "      <th>workclass_5</th>\n",
              "      <th>workclass_6</th>\n",
              "      <th>workclass_7</th>\n",
              "      <th>fnlwgt</th>\n",
              "      <th>education_num</th>\n",
              "      <th>...</th>\n",
              "      <th>native_country_32</th>\n",
              "      <th>native_country_33</th>\n",
              "      <th>native_country_34</th>\n",
              "      <th>native_country_35</th>\n",
              "      <th>native_country_36</th>\n",
              "      <th>native_country_37</th>\n",
              "      <th>native_country_38</th>\n",
              "      <th>native_country_39</th>\n",
              "      <th>native_country_40</th>\n",
              "      <th>native_country_41</th>\n",
              "    </tr>\n",
              "  </thead>\n",
              "  <tbody>\n",
              "    <tr>\n",
              "      <th>12234</th>\n",
              "      <td>27</td>\n",
              "      <td>1</td>\n",
              "      <td>0</td>\n",
              "      <td>0</td>\n",
              "      <td>0</td>\n",
              "      <td>0</td>\n",
              "      <td>0</td>\n",
              "      <td>0</td>\n",
              "      <td>171655</td>\n",
              "      <td>9</td>\n",
              "      <td>...</td>\n",
              "      <td>0</td>\n",
              "      <td>0</td>\n",
              "      <td>0</td>\n",
              "      <td>0</td>\n",
              "      <td>0</td>\n",
              "      <td>0</td>\n",
              "      <td>0</td>\n",
              "      <td>0</td>\n",
              "      <td>0</td>\n",
              "      <td>0</td>\n",
              "    </tr>\n",
              "    <tr>\n",
              "      <th>11671</th>\n",
              "      <td>36</td>\n",
              "      <td>1</td>\n",
              "      <td>0</td>\n",
              "      <td>0</td>\n",
              "      <td>0</td>\n",
              "      <td>0</td>\n",
              "      <td>0</td>\n",
              "      <td>0</td>\n",
              "      <td>177285</td>\n",
              "      <td>11</td>\n",
              "      <td>...</td>\n",
              "      <td>0</td>\n",
              "      <td>0</td>\n",
              "      <td>0</td>\n",
              "      <td>0</td>\n",
              "      <td>0</td>\n",
              "      <td>0</td>\n",
              "      <td>0</td>\n",
              "      <td>0</td>\n",
              "      <td>0</td>\n",
              "      <td>0</td>\n",
              "    </tr>\n",
              "    <tr>\n",
              "      <th>13673</th>\n",
              "      <td>21</td>\n",
              "      <td>1</td>\n",
              "      <td>0</td>\n",
              "      <td>0</td>\n",
              "      <td>0</td>\n",
              "      <td>0</td>\n",
              "      <td>0</td>\n",
              "      <td>0</td>\n",
              "      <td>162228</td>\n",
              "      <td>10</td>\n",
              "      <td>...</td>\n",
              "      <td>0</td>\n",
              "      <td>0</td>\n",
              "      <td>0</td>\n",
              "      <td>0</td>\n",
              "      <td>0</td>\n",
              "      <td>0</td>\n",
              "      <td>0</td>\n",
              "      <td>0</td>\n",
              "      <td>0</td>\n",
              "      <td>0</td>\n",
              "    </tr>\n",
              "    <tr>\n",
              "      <th>29829</th>\n",
              "      <td>50</td>\n",
              "      <td>1</td>\n",
              "      <td>0</td>\n",
              "      <td>0</td>\n",
              "      <td>0</td>\n",
              "      <td>0</td>\n",
              "      <td>0</td>\n",
              "      <td>0</td>\n",
              "      <td>46155</td>\n",
              "      <td>11</td>\n",
              "      <td>...</td>\n",
              "      <td>0</td>\n",
              "      <td>0</td>\n",
              "      <td>0</td>\n",
              "      <td>0</td>\n",
              "      <td>0</td>\n",
              "      <td>0</td>\n",
              "      <td>0</td>\n",
              "      <td>0</td>\n",
              "      <td>0</td>\n",
              "      <td>0</td>\n",
              "    </tr>\n",
              "    <tr>\n",
              "      <th>26107</th>\n",
              "      <td>43</td>\n",
              "      <td>1</td>\n",
              "      <td>0</td>\n",
              "      <td>0</td>\n",
              "      <td>0</td>\n",
              "      <td>0</td>\n",
              "      <td>0</td>\n",
              "      <td>0</td>\n",
              "      <td>193490</td>\n",
              "      <td>4</td>\n",
              "      <td>...</td>\n",
              "      <td>0</td>\n",
              "      <td>0</td>\n",
              "      <td>0</td>\n",
              "      <td>0</td>\n",
              "      <td>0</td>\n",
              "      <td>0</td>\n",
              "      <td>0</td>\n",
              "      <td>0</td>\n",
              "      <td>0</td>\n",
              "      <td>0</td>\n",
              "    </tr>\n",
              "  </tbody>\n",
              "</table>\n",
              "<p>5 rows × 88 columns</p>\n",
              "</div>\n",
              "      <button class=\"colab-df-convert\" onclick=\"convertToInteractive('df-fcf06722-aaee-47c1-99dd-42fdd7241fd7')\"\n",
              "              title=\"Convert this dataframe to an interactive table.\"\n",
              "              style=\"display:none;\">\n",
              "        \n",
              "  <svg xmlns=\"http://www.w3.org/2000/svg\" height=\"24px\"viewBox=\"0 0 24 24\"\n",
              "       width=\"24px\">\n",
              "    <path d=\"M0 0h24v24H0V0z\" fill=\"none\"/>\n",
              "    <path d=\"M18.56 5.44l.94 2.06.94-2.06 2.06-.94-2.06-.94-.94-2.06-.94 2.06-2.06.94zm-11 1L8.5 8.5l.94-2.06 2.06-.94-2.06-.94L8.5 2.5l-.94 2.06-2.06.94zm10 10l.94 2.06.94-2.06 2.06-.94-2.06-.94-.94-2.06-.94 2.06-2.06.94z\"/><path d=\"M17.41 7.96l-1.37-1.37c-.4-.4-.92-.59-1.43-.59-.52 0-1.04.2-1.43.59L10.3 9.45l-7.72 7.72c-.78.78-.78 2.05 0 2.83L4 21.41c.39.39.9.59 1.41.59.51 0 1.02-.2 1.41-.59l7.78-7.78 2.81-2.81c.8-.78.8-2.07 0-2.86zM5.41 20L4 18.59l7.72-7.72 1.47 1.35L5.41 20z\"/>\n",
              "  </svg>\n",
              "      </button>\n",
              "      \n",
              "  <style>\n",
              "    .colab-df-container {\n",
              "      display:flex;\n",
              "      flex-wrap:wrap;\n",
              "      gap: 12px;\n",
              "    }\n",
              "\n",
              "    .colab-df-convert {\n",
              "      background-color: #E8F0FE;\n",
              "      border: none;\n",
              "      border-radius: 50%;\n",
              "      cursor: pointer;\n",
              "      display: none;\n",
              "      fill: #1967D2;\n",
              "      height: 32px;\n",
              "      padding: 0 0 0 0;\n",
              "      width: 32px;\n",
              "    }\n",
              "\n",
              "    .colab-df-convert:hover {\n",
              "      background-color: #E2EBFA;\n",
              "      box-shadow: 0px 1px 2px rgba(60, 64, 67, 0.3), 0px 1px 3px 1px rgba(60, 64, 67, 0.15);\n",
              "      fill: #174EA6;\n",
              "    }\n",
              "\n",
              "    [theme=dark] .colab-df-convert {\n",
              "      background-color: #3B4455;\n",
              "      fill: #D2E3FC;\n",
              "    }\n",
              "\n",
              "    [theme=dark] .colab-df-convert:hover {\n",
              "      background-color: #434B5C;\n",
              "      box-shadow: 0px 1px 3px 1px rgba(0, 0, 0, 0.15);\n",
              "      filter: drop-shadow(0px 1px 2px rgba(0, 0, 0, 0.3));\n",
              "      fill: #FFFFFF;\n",
              "    }\n",
              "  </style>\n",
              "\n",
              "      <script>\n",
              "        const buttonEl =\n",
              "          document.querySelector('#df-fcf06722-aaee-47c1-99dd-42fdd7241fd7 button.colab-df-convert');\n",
              "        buttonEl.style.display =\n",
              "          google.colab.kernel.accessAllowed ? 'block' : 'none';\n",
              "\n",
              "        async function convertToInteractive(key) {\n",
              "          const element = document.querySelector('#df-fcf06722-aaee-47c1-99dd-42fdd7241fd7');\n",
              "          const dataTable =\n",
              "            await google.colab.kernel.invokeFunction('convertToInteractive',\n",
              "                                                     [key], {});\n",
              "          if (!dataTable) return;\n",
              "\n",
              "          const docLinkHtml = 'Like what you see? Visit the ' +\n",
              "            '<a target=\"_blank\" href=https://colab.research.google.com/notebooks/data_table.ipynb>data table notebook</a>'\n",
              "            + ' to learn more about interactive tables.';\n",
              "          element.innerHTML = '';\n",
              "          dataTable['output_type'] = 'display_data';\n",
              "          await google.colab.output.renderOutput(dataTable, element);\n",
              "          const docLink = document.createElement('div');\n",
              "          docLink.innerHTML = docLinkHtml;\n",
              "          element.appendChild(docLink);\n",
              "        }\n",
              "      </script>\n",
              "    </div>\n",
              "  </div>\n",
              "  "
            ]
          },
          "metadata": {},
          "execution_count": 438
        }
      ]
    },
    {
      "cell_type": "code",
      "source": [
        "X_train.shape"
      ],
      "metadata": {
        "colab": {
          "base_uri": "https://localhost:8080/"
        },
        "id": "mYmaTwPv1l3-",
        "outputId": "2a11151e-9eee-4916-817c-5d557bb019ab"
      },
      "execution_count": 439,
      "outputs": [
        {
          "output_type": "execute_result",
          "data": {
            "text/plain": [
              "(21113, 88)"
            ]
          },
          "metadata": {},
          "execution_count": 439
        }
      ]
    },
    {
      "cell_type": "markdown",
      "source": [
        "Nós vimos que inicialmente tínhamos 13 colunas, não considerando a coluna das classes, agora temos 88.\n",
        "\n",
        "Agora visualizaremos o X_test."
      ],
      "metadata": {
        "id": "AzRF_-Do13ig"
      }
    },
    {
      "cell_type": "code",
      "source": [
        "X_test.head()"
      ],
      "metadata": {
        "colab": {
          "base_uri": "https://localhost:8080/",
          "height": 299
        },
        "id": "MPh0Snpp1_Jq",
        "outputId": "284cee4b-f99e-418d-ff0b-e952dce479ac"
      },
      "execution_count": 440,
      "outputs": [
        {
          "output_type": "execute_result",
          "data": {
            "text/plain": [
              "       age  workclass_1  workclass_2  workclass_3  workclass_4  workclass_5  \\\n",
              "6447    60            0            0            0            0            0   \n",
              "19681   31            1            0            0            0            0   \n",
              "6721    63            1            0            0            0            0   \n",
              "12561   45            1            0            0            0            0   \n",
              "10448   64            1            0            0            0            0   \n",
              "\n",
              "       workclass_6  workclass_7  fnlwgt  education_num  ...  \\\n",
              "6447             1            0  235535              9  ...   \n",
              "19681            0            0   94235             13  ...   \n",
              "6721             0            0   66634              5  ...   \n",
              "12561            0            0  190088              9  ...   \n",
              "10448            0            0  379062             10  ...   \n",
              "\n",
              "       native_country_32  native_country_33  native_country_34  \\\n",
              "6447                   0                  0                  0   \n",
              "19681                  0                  0                  0   \n",
              "6721                   0                  0                  0   \n",
              "12561                  0                  0                  0   \n",
              "10448                  0                  0                  0   \n",
              "\n",
              "       native_country_35  native_country_36  native_country_37  \\\n",
              "6447                   0                  0                  0   \n",
              "19681                  0                  0                  0   \n",
              "6721                   0                  0                  0   \n",
              "12561                  0                  0                  0   \n",
              "10448                  0                  0                  0   \n",
              "\n",
              "       native_country_38  native_country_39  native_country_40  \\\n",
              "6447                   0                  0                  0   \n",
              "19681                  0                  0                  0   \n",
              "6721                   0                  0                  0   \n",
              "12561                  0                  0                  0   \n",
              "10448                  0                  0                  0   \n",
              "\n",
              "       native_country_41  \n",
              "6447                   0  \n",
              "19681                  0  \n",
              "6721                   0  \n",
              "12561                  0  \n",
              "10448                  0  \n",
              "\n",
              "[5 rows x 88 columns]"
            ],
            "text/html": [
              "\n",
              "  <div id=\"df-b48b7ef4-bbcf-4bce-826d-7cfe2d78bf8e\">\n",
              "    <div class=\"colab-df-container\">\n",
              "      <div>\n",
              "<style scoped>\n",
              "    .dataframe tbody tr th:only-of-type {\n",
              "        vertical-align: middle;\n",
              "    }\n",
              "\n",
              "    .dataframe tbody tr th {\n",
              "        vertical-align: top;\n",
              "    }\n",
              "\n",
              "    .dataframe thead th {\n",
              "        text-align: right;\n",
              "    }\n",
              "</style>\n",
              "<table border=\"1\" class=\"dataframe\">\n",
              "  <thead>\n",
              "    <tr style=\"text-align: right;\">\n",
              "      <th></th>\n",
              "      <th>age</th>\n",
              "      <th>workclass_1</th>\n",
              "      <th>workclass_2</th>\n",
              "      <th>workclass_3</th>\n",
              "      <th>workclass_4</th>\n",
              "      <th>workclass_5</th>\n",
              "      <th>workclass_6</th>\n",
              "      <th>workclass_7</th>\n",
              "      <th>fnlwgt</th>\n",
              "      <th>education_num</th>\n",
              "      <th>...</th>\n",
              "      <th>native_country_32</th>\n",
              "      <th>native_country_33</th>\n",
              "      <th>native_country_34</th>\n",
              "      <th>native_country_35</th>\n",
              "      <th>native_country_36</th>\n",
              "      <th>native_country_37</th>\n",
              "      <th>native_country_38</th>\n",
              "      <th>native_country_39</th>\n",
              "      <th>native_country_40</th>\n",
              "      <th>native_country_41</th>\n",
              "    </tr>\n",
              "  </thead>\n",
              "  <tbody>\n",
              "    <tr>\n",
              "      <th>6447</th>\n",
              "      <td>60</td>\n",
              "      <td>0</td>\n",
              "      <td>0</td>\n",
              "      <td>0</td>\n",
              "      <td>0</td>\n",
              "      <td>0</td>\n",
              "      <td>1</td>\n",
              "      <td>0</td>\n",
              "      <td>235535</td>\n",
              "      <td>9</td>\n",
              "      <td>...</td>\n",
              "      <td>0</td>\n",
              "      <td>0</td>\n",
              "      <td>0</td>\n",
              "      <td>0</td>\n",
              "      <td>0</td>\n",
              "      <td>0</td>\n",
              "      <td>0</td>\n",
              "      <td>0</td>\n",
              "      <td>0</td>\n",
              "      <td>0</td>\n",
              "    </tr>\n",
              "    <tr>\n",
              "      <th>19681</th>\n",
              "      <td>31</td>\n",
              "      <td>1</td>\n",
              "      <td>0</td>\n",
              "      <td>0</td>\n",
              "      <td>0</td>\n",
              "      <td>0</td>\n",
              "      <td>0</td>\n",
              "      <td>0</td>\n",
              "      <td>94235</td>\n",
              "      <td>13</td>\n",
              "      <td>...</td>\n",
              "      <td>0</td>\n",
              "      <td>0</td>\n",
              "      <td>0</td>\n",
              "      <td>0</td>\n",
              "      <td>0</td>\n",
              "      <td>0</td>\n",
              "      <td>0</td>\n",
              "      <td>0</td>\n",
              "      <td>0</td>\n",
              "      <td>0</td>\n",
              "    </tr>\n",
              "    <tr>\n",
              "      <th>6721</th>\n",
              "      <td>63</td>\n",
              "      <td>1</td>\n",
              "      <td>0</td>\n",
              "      <td>0</td>\n",
              "      <td>0</td>\n",
              "      <td>0</td>\n",
              "      <td>0</td>\n",
              "      <td>0</td>\n",
              "      <td>66634</td>\n",
              "      <td>5</td>\n",
              "      <td>...</td>\n",
              "      <td>0</td>\n",
              "      <td>0</td>\n",
              "      <td>0</td>\n",
              "      <td>0</td>\n",
              "      <td>0</td>\n",
              "      <td>0</td>\n",
              "      <td>0</td>\n",
              "      <td>0</td>\n",
              "      <td>0</td>\n",
              "      <td>0</td>\n",
              "    </tr>\n",
              "    <tr>\n",
              "      <th>12561</th>\n",
              "      <td>45</td>\n",
              "      <td>1</td>\n",
              "      <td>0</td>\n",
              "      <td>0</td>\n",
              "      <td>0</td>\n",
              "      <td>0</td>\n",
              "      <td>0</td>\n",
              "      <td>0</td>\n",
              "      <td>190088</td>\n",
              "      <td>9</td>\n",
              "      <td>...</td>\n",
              "      <td>0</td>\n",
              "      <td>0</td>\n",
              "      <td>0</td>\n",
              "      <td>0</td>\n",
              "      <td>0</td>\n",
              "      <td>0</td>\n",
              "      <td>0</td>\n",
              "      <td>0</td>\n",
              "      <td>0</td>\n",
              "      <td>0</td>\n",
              "    </tr>\n",
              "    <tr>\n",
              "      <th>10448</th>\n",
              "      <td>64</td>\n",
              "      <td>1</td>\n",
              "      <td>0</td>\n",
              "      <td>0</td>\n",
              "      <td>0</td>\n",
              "      <td>0</td>\n",
              "      <td>0</td>\n",
              "      <td>0</td>\n",
              "      <td>379062</td>\n",
              "      <td>10</td>\n",
              "      <td>...</td>\n",
              "      <td>0</td>\n",
              "      <td>0</td>\n",
              "      <td>0</td>\n",
              "      <td>0</td>\n",
              "      <td>0</td>\n",
              "      <td>0</td>\n",
              "      <td>0</td>\n",
              "      <td>0</td>\n",
              "      <td>0</td>\n",
              "      <td>0</td>\n",
              "    </tr>\n",
              "  </tbody>\n",
              "</table>\n",
              "<p>5 rows × 88 columns</p>\n",
              "</div>\n",
              "      <button class=\"colab-df-convert\" onclick=\"convertToInteractive('df-b48b7ef4-bbcf-4bce-826d-7cfe2d78bf8e')\"\n",
              "              title=\"Convert this dataframe to an interactive table.\"\n",
              "              style=\"display:none;\">\n",
              "        \n",
              "  <svg xmlns=\"http://www.w3.org/2000/svg\" height=\"24px\"viewBox=\"0 0 24 24\"\n",
              "       width=\"24px\">\n",
              "    <path d=\"M0 0h24v24H0V0z\" fill=\"none\"/>\n",
              "    <path d=\"M18.56 5.44l.94 2.06.94-2.06 2.06-.94-2.06-.94-.94-2.06-.94 2.06-2.06.94zm-11 1L8.5 8.5l.94-2.06 2.06-.94-2.06-.94L8.5 2.5l-.94 2.06-2.06.94zm10 10l.94 2.06.94-2.06 2.06-.94-2.06-.94-.94-2.06-.94 2.06-2.06.94z\"/><path d=\"M17.41 7.96l-1.37-1.37c-.4-.4-.92-.59-1.43-.59-.52 0-1.04.2-1.43.59L10.3 9.45l-7.72 7.72c-.78.78-.78 2.05 0 2.83L4 21.41c.39.39.9.59 1.41.59.51 0 1.02-.2 1.41-.59l7.78-7.78 2.81-2.81c.8-.78.8-2.07 0-2.86zM5.41 20L4 18.59l7.72-7.72 1.47 1.35L5.41 20z\"/>\n",
              "  </svg>\n",
              "      </button>\n",
              "      \n",
              "  <style>\n",
              "    .colab-df-container {\n",
              "      display:flex;\n",
              "      flex-wrap:wrap;\n",
              "      gap: 12px;\n",
              "    }\n",
              "\n",
              "    .colab-df-convert {\n",
              "      background-color: #E8F0FE;\n",
              "      border: none;\n",
              "      border-radius: 50%;\n",
              "      cursor: pointer;\n",
              "      display: none;\n",
              "      fill: #1967D2;\n",
              "      height: 32px;\n",
              "      padding: 0 0 0 0;\n",
              "      width: 32px;\n",
              "    }\n",
              "\n",
              "    .colab-df-convert:hover {\n",
              "      background-color: #E2EBFA;\n",
              "      box-shadow: 0px 1px 2px rgba(60, 64, 67, 0.3), 0px 1px 3px 1px rgba(60, 64, 67, 0.15);\n",
              "      fill: #174EA6;\n",
              "    }\n",
              "\n",
              "    [theme=dark] .colab-df-convert {\n",
              "      background-color: #3B4455;\n",
              "      fill: #D2E3FC;\n",
              "    }\n",
              "\n",
              "    [theme=dark] .colab-df-convert:hover {\n",
              "      background-color: #434B5C;\n",
              "      box-shadow: 0px 1px 3px 1px rgba(0, 0, 0, 0.15);\n",
              "      filter: drop-shadow(0px 1px 2px rgba(0, 0, 0, 0.3));\n",
              "      fill: #FFFFFF;\n",
              "    }\n",
              "  </style>\n",
              "\n",
              "      <script>\n",
              "        const buttonEl =\n",
              "          document.querySelector('#df-b48b7ef4-bbcf-4bce-826d-7cfe2d78bf8e button.colab-df-convert');\n",
              "        buttonEl.style.display =\n",
              "          google.colab.kernel.accessAllowed ? 'block' : 'none';\n",
              "\n",
              "        async function convertToInteractive(key) {\n",
              "          const element = document.querySelector('#df-b48b7ef4-bbcf-4bce-826d-7cfe2d78bf8e');\n",
              "          const dataTable =\n",
              "            await google.colab.kernel.invokeFunction('convertToInteractive',\n",
              "                                                     [key], {});\n",
              "          if (!dataTable) return;\n",
              "\n",
              "          const docLinkHtml = 'Like what you see? Visit the ' +\n",
              "            '<a target=\"_blank\" href=https://colab.research.google.com/notebooks/data_table.ipynb>data table notebook</a>'\n",
              "            + ' to learn more about interactive tables.';\n",
              "          element.innerHTML = '';\n",
              "          dataTable['output_type'] = 'display_data';\n",
              "          await google.colab.output.renderOutput(dataTable, element);\n",
              "          const docLink = document.createElement('div');\n",
              "          docLink.innerHTML = docLinkHtml;\n",
              "          element.appendChild(docLink);\n",
              "        }\n",
              "      </script>\n",
              "    </div>\n",
              "  </div>\n",
              "  "
            ]
          },
          "metadata": {},
          "execution_count": 440
        }
      ]
    },
    {
      "cell_type": "code",
      "source": [
        "X_test.shape"
      ],
      "metadata": {
        "colab": {
          "base_uri": "https://localhost:8080/"
        },
        "id": "y5dBUnCi2Xy_",
        "outputId": "2b86e908-d2cf-40fe-f48c-71927eb74ee4"
      },
      "execution_count": 441,
      "outputs": [
        {
          "output_type": "execute_result",
          "data": {
            "text/plain": [
              "(9049, 88)"
            ]
          },
          "metadata": {},
          "execution_count": 441
        }
      ]
    },
    {
      "cell_type": "markdown",
      "source": [
        "Converter a coluna target para 0 e 1."
      ],
      "metadata": {
        "id": "DENIvX_W-c8R"
      }
    },
    {
      "cell_type": "code",
      "source": [
        "# ordinal encode target variable\n",
        "label_encoder = LabelEncoder()\n",
        "label_encoder.fit(y_train)\n",
        "y_train_lb = label_encoder.transform(y_train)\n",
        "y_test_lb = label_encoder.transform(y_test)"
      ],
      "metadata": {
        "id": "DMgEX2gLYsod"
      },
      "execution_count": 442,
      "outputs": []
    },
    {
      "cell_type": "markdown",
      "source": [
        "##**7 - Treinamento dos modelos**"
      ],
      "metadata": {
        "id": "uALsOh433475"
      }
    },
    {
      "cell_type": "code",
      "source": [
        "np.random.seed(7) # definindo uma semente global para este bloco\n",
        "base = DecisionTreeClassifier()\n",
        "num_trees = 100\n",
        "max_features = 3\n",
        "\n",
        "# Criando os modelos para o VotingClassifier\n",
        "bases = []\n",
        "model1 = LogisticRegression(max_iter=200)\n",
        "bases.append(('logistic', model1))\n",
        "model2 = DecisionTreeClassifier()\n",
        "bases.append(('cart', model2))\n",
        "model3 = SVC()\n",
        "bases.append(('svm', model3))\n",
        "\n",
        "# Listas para armazenar os armazenar os pipelines e os resultados para todas as visões do dataset\n",
        "pipelines = []\n",
        "results = []\n",
        "names = []\n",
        "\n",
        "# Criando os elementos do pipeline\n",
        "\n",
        "# Algoritmos que serão utilizados\n",
        "reg_log = ('LR', LogisticRegression(max_iter=200))\n",
        "knn = ('KNN', KNeighborsClassifier())\n",
        "cart = ('CART', DecisionTreeClassifier())\n",
        "naive_bayes = ('NB', GaussianNB())\n",
        "svm = ('SVM', SVC())\n",
        "bagging = ('Bag', BaggingClassifier(base_estimator=base, n_estimators=num_trees))\n",
        "random_forest = ('RF', RandomForestClassifier(n_estimators=num_trees, max_features=max_features))\n",
        "extra_trees = ('ET', ExtraTreesClassifier(n_estimators=num_trees, max_features=max_features))\n",
        "adaboost = ('Ada', AdaBoostClassifier(n_estimators=num_trees))\n",
        "gradient_boosting = ('GB', GradientBoostingClassifier(n_estimators=num_trees))\n",
        "voting = ('Voting', VotingClassifier(bases))\n",
        "\n",
        "# Transformações que serão utilizadas\n",
        "standard_scaler = ('StandardScaler', StandardScaler())\n",
        "min_max_scaler = ('MinMaxScaler', MinMaxScaler())\n",
        "\n",
        "\n",
        "# Montando os pipelines\n",
        "\n",
        "# Dataset original\n",
        "pipelines.append(('LR-orig', Pipeline([reg_log])))\n",
        "pipelines.append(('KNN-orig', Pipeline([knn])))\n",
        "pipelines.append(('CART-orig', Pipeline([cart])))\n",
        "pipelines.append(('NB-orig', Pipeline([naive_bayes])))\n",
        "pipelines.append(('SVM-orig', Pipeline([svm])))\n",
        "pipelines.append(('Bag-orig', Pipeline([bagging])))\n",
        "pipelines.append(('RF-orig', Pipeline([random_forest])))\n",
        "pipelines.append(('ET-orig', Pipeline([extra_trees])))\n",
        "pipelines.append(('Ada-orig', Pipeline([adaboost])))\n",
        "pipelines.append(('GB-orig', Pipeline([gradient_boosting])))\n",
        "pipelines.append(('Vot-orig', Pipeline([voting])))\n",
        "\n",
        "# Dataset Padronizado\n",
        "pipelines.append(('LR-padr', Pipeline([standard_scaler, reg_log])))\n",
        "pipelines.append(('KNN-padr', Pipeline([standard_scaler, knn])))\n",
        "pipelines.append(('CART-padr', Pipeline([standard_scaler, cart])))\n",
        "pipelines.append(('NB-padr', Pipeline([standard_scaler, naive_bayes])))\n",
        "pipelines.append(('SVM-padr', Pipeline([standard_scaler, svm])))\n",
        "pipelines.append(('Bag-padr', Pipeline([standard_scaler, bagging])))\n",
        "pipelines.append(('RF-padr', Pipeline([standard_scaler, random_forest])))\n",
        "pipelines.append(('ET-padr', Pipeline([standard_scaler, extra_trees])))\n",
        "pipelines.append(('Ada-padr', Pipeline([standard_scaler, adaboost])))\n",
        "pipelines.append(('GB-padr', Pipeline([standard_scaler, gradient_boosting])))\n",
        "pipelines.append(('Vot-padr', Pipeline([standard_scaler, voting])))\n",
        "\n",
        "# Dataset Normalizado\n",
        "pipelines.append(('LR-norm', Pipeline([min_max_scaler, reg_log])))\n",
        "pipelines.append(('KNN-norm', Pipeline([min_max_scaler, knn])))\n",
        "pipelines.append(('CART-norm', Pipeline([min_max_scaler, cart])))\n",
        "pipelines.append(('NB-norm', Pipeline([min_max_scaler, naive_bayes])))\n",
        "pipelines.append(('SVM-norm', Pipeline([min_max_scaler, svm])))\n",
        "pipelines.append(('Bag-norm', Pipeline([min_max_scaler, bagging])))\n",
        "pipelines.append(('RF-norm', Pipeline([min_max_scaler, random_forest])))\n",
        "pipelines.append(('ET-norm', Pipeline([min_max_scaler, extra_trees])))\n",
        "pipelines.append(('Ada-norm', Pipeline([min_max_scaler, adaboost])))\n",
        "pipelines.append(('GB-norm', Pipeline([min_max_scaler, gradient_boosting])))\n",
        "pipelines.append(('Vot-norm', Pipeline([min_max_scaler, voting])))\n",
        "\n",
        "# Executando os pipelines\n",
        "for name, model in pipelines:\n",
        "    cv_results = cross_val_score(model, X_train, y_train_lb, cv=kfold, scoring=scoring)\n",
        "    results.append(cv_results)\n",
        "    names.append(name)\n",
        "    msg = \"%s: %.3f (%.3f)\" % (name, cv_results.mean(), cv_results.std()) # formatando para 3 casas decimais\n",
        "    print(msg)\n",
        "\n",
        "# Boxplot de comparação dos modelos\n",
        "fig = plt.figure(figsize=(25,6))\n",
        "fig.suptitle('Comparação dos Modelos - Dataset orginal, padronizado e normalizado')\n",
        "ax = fig.add_subplot(111)\n",
        "plt.boxplot(results)\n",
        "ax.set_xticklabels(names, rotation=90)\n",
        "plt.show()"
      ],
      "metadata": {
        "colab": {
          "base_uri": "https://localhost:8080/",
          "height": 1000
        },
        "id": "2YCoOqo38VPj",
        "outputId": "9e0ffeca-4bf8-49b7-8a10-1bed58ca4dbc"
      },
      "execution_count": 443,
      "outputs": [
        {
          "output_type": "stream",
          "name": "stdout",
          "text": [
            "LR-orig: 0.793 (0.004)\n",
            "KNN-orig: 0.772 (0.010)\n",
            "CART-orig: 0.806 (0.006)\n",
            "NB-orig: 0.791 (0.005)\n",
            "SVM-orig: 0.787 (0.004)\n",
            "Bag-orig: 0.849 (0.005)\n",
            "RF-orig: 0.846 (0.005)\n",
            "ET-orig: 0.830 (0.006)\n",
            "Ada-orig: 0.862 (0.004)\n",
            "GB-orig: 0.862 (0.005)\n",
            "Vot-orig: 0.811 (0.004)\n",
            "LR-padr: 0.848 (0.006)\n",
            "KNN-padr: 0.820 (0.008)\n",
            "CART-padr: 0.805 (0.007)\n",
            "NB-padr: 0.465 (0.023)\n",
            "SVM-padr: 0.844 (0.004)\n",
            "Bag-padr: 0.850 (0.005)\n",
            "RF-padr: 0.847 (0.003)\n",
            "ET-padr: 0.831 (0.006)\n",
            "Ada-padr: 0.862 (0.004)\n",
            "GB-padr: 0.862 (0.005)\n",
            "Vot-padr: 0.852 (0.006)\n",
            "LR-norm: 0.845 (0.005)\n",
            "KNN-norm: 0.822 (0.006)\n",
            "CART-norm: 0.804 (0.007)\n",
            "NB-norm: 0.509 (0.016)\n",
            "SVM-norm: 0.833 (0.006)\n",
            "Bag-norm: 0.849 (0.005)\n",
            "RF-norm: 0.848 (0.004)\n",
            "ET-norm: 0.831 (0.006)\n",
            "Ada-norm: 0.862 (0.004)\n",
            "GB-norm: 0.862 (0.005)\n",
            "Vot-norm: 0.847 (0.005)\n"
          ]
        },
        {
          "output_type": "display_data",
          "data": {
            "text/plain": [
              "<Figure size 2500x600 with 1 Axes>"
            ],
            "image/png": "[encoded data removed]"
          },
          "metadata": {}
        }
      ]
    },
    {
      "cell_type": "markdown",
      "source": [
        "##**7 - Aplicando o modelo escolhido**"
      ],
      "metadata": {
        "id": "TceuV51IB1kC"
      }
    },
    {
      "cell_type": "markdown",
      "source": [
        "O modelo escolhido foi o GB-orig, é o que apresentou a melhor acurácia e desvio padrão aceitável."
      ],
      "metadata": {
        "id": "r92WgxNLCENA"
      }
    },
    {
      "cell_type": "code",
      "source": [
        "num_trees = 100\n",
        "# Modelo escolhido\n",
        "gb = GradientBoostingClassifier(n_estimators=num_trees)\n",
        "# Treinando\n",
        "gb.fit(X_train, y_train_lb)\n",
        "\n",
        "print('Training set score: {:.4f}'.format(gb.score(X_train, y_train_lb)))\n",
        "print('Test set score: {:.4f}'.format(gb.score(X_test, y_test_lb)))"
      ],
      "metadata": {
        "colab": {
          "base_uri": "https://localhost:8080/"
        },
        "id": "QRX9sF4BpKdS",
        "outputId": "3fafcd15-2519-4c7a-9d27-8ee83c322e00"
      },
      "execution_count": 444,
      "outputs": [
        {
          "output_type": "stream",
          "name": "stdout",
          "text": [
            "Training set score: 0.8680\n",
            "Test set score: 0.8610\n"
          ]
        }
      ]
    },
    {
      "cell_type": "markdown",
      "source": [
        "Na predição da base de teste obtive um accuracy score de 86,1%, bem próximo do score de 86,8% obtido no treinamento, o que descarta a presença de overfitting."
      ],
      "metadata": {
        "id": "_yhKTdWCbH2L"
      }
    },
    {
      "cell_type": "code",
      "source": [
        "# Distribuição das classes da base de teste\n",
        "target = y_test.values\n",
        "counter = Counter(target)\n",
        "\n",
        "for k,v in counter.items():\n",
        " per = v / len(target) * 100\n",
        " print('Class=%s, Count=%d, Percentage=%.2f%%' % (k, v, per))"
      ],
      "metadata": {
        "colab": {
          "base_uri": "https://localhost:8080/"
        },
        "id": "AIcv5wsckZ45",
        "outputId": "dfb0d0de-b04c-4b77-eb71-14c447490648"
      },
      "execution_count": 445,
      "outputs": [
        {
          "output_type": "stream",
          "name": "stdout",
          "text": [
            "Class=<=50K, Count=6797, Percentage=75.11%\n",
            "Class=>50K, Count=2252, Percentage=24.89%\n"
          ]
        }
      ]
    },
    {
      "cell_type": "code",
      "source": [
        "# Predição da base de teste\n",
        "y_pred = gb.predict(X_test)\n",
        "\n",
        "cm = confusion_matrix(y_test_lb, y_pred)\n",
        "\n",
        "print('Confusion matrix\\n\\n', cm)\n",
        "\n",
        "print('\\nTrue Positives(TP) = ', cm[0,0])\n",
        "\n",
        "print('\\nTrue Negatives(TN) = ', cm[1,1])\n",
        "\n",
        "print('\\nFalse Positives(FP) = ', cm[0,1])\n",
        "\n",
        "print('\\nFalse Negatives(FN) = ', cm[1,0])"
      ],
      "metadata": {
        "colab": {
          "base_uri": "https://localhost:8080/"
        },
        "id": "XKGNrGe73Sri",
        "outputId": "1ab5139e-3953-4f49-906f-5385c5c72cef"
      },
      "execution_count": 446,
      "outputs": [
        {
          "output_type": "stream",
          "name": "stdout",
          "text": [
            "Confusion matrix\n",
            "\n",
            " [[6426  371]\n",
            " [ 887 1365]]\n",
            "\n",
            "True Positives(TP) =  6426\n",
            "\n",
            "True Negatives(TN) =  1365\n",
            "\n",
            "False Positives(FP) =  371\n",
            "\n",
            "False Negatives(FN) =  887\n"
          ]
        }
      ]
    },
    {
      "cell_type": "code",
      "source": [
        "cm_matrix = pd.DataFrame(data=cm, columns=['Atual Positivo:1', 'Atual Negativo:0'],\n",
        "                                 index=['Predição Positivo:1', 'Predição Negativo:0'])\n",
        "\n",
        "sns.heatmap(cm_matrix, annot=True, fmt='d', cmap='YlGnBu')"
      ],
      "metadata": {
        "colab": {
          "base_uri": "https://localhost:8080/",
          "height": 448
        },
        "id": "sn5hr1gu3bxy",
        "outputId": "6ba0fff0-c72c-4ff4-e30f-37bc9726cc50"
      },
      "execution_count": 447,
      "outputs": [
        {
          "output_type": "execute_result",
          "data": {
            "text/plain": [
              "<Axes: >"
            ]
          },
          "metadata": {},
          "execution_count": 447
        },
        {
          "output_type": "display_data",
          "data": {
            "text/plain": [
              "<Figure size 640x480 with 2 Axes>"
            ],
            "image/png": "[encoded data removed]"
          },
          "metadata": {}
        }
      ]
    },
    {
      "cell_type": "markdown",
      "source": [
        "Verificando o percentual da acurácia e do erro na predição da base de teste."
      ],
      "metadata": {
        "id": "v9CqYTD-ypN_"
      }
    },
    {
      "cell_type": "code",
      "source": [
        "TP = cm[0,0] # Verdadeiro positivo\n",
        "TN = cm[1,1] # Verdadeiro negativo\n",
        "FP = cm[0,1] # Falso positivo\n",
        "FN = cm[1,0] # Falso negativo\n",
        "\n",
        "classification_accuracy = (TP + TN) / float(TP + TN + FP + FN)\n",
        "\n",
        "print('Acurácia da classificação : {0:0.4f}'.format(classification_accuracy))\n",
        "\n",
        "classification_error = (FP + FN) / float(TP + TN + FP + FN)\n",
        "\n",
        "print('Erro de classificação : {0:0.4f}'.format(classification_error))"
      ],
      "metadata": {
        "colab": {
          "base_uri": "https://localhost:8080/"
        },
        "id": "rZTrYtU03v3h",
        "outputId": "0a762749-378a-4ca0-cf0a-23264fdbd866"
      },
      "execution_count": 448,
      "outputs": [
        {
          "output_type": "stream",
          "name": "stdout",
          "text": [
            "Acurácia da classificação : 0.8610\n",
            "Erro de classificação : 0.1390\n"
          ]
        }
      ]
    },
    {
      "cell_type": "markdown",
      "source": [
        "##**8 - Aplicação do modelo em toda base**"
      ],
      "metadata": {
        "id": "KOUpm9iZ2GnK"
      }
    },
    {
      "cell_type": "code",
      "source": [
        "# Aplicando o modelo escolhido em toda à base existente\n",
        "gb_all_dataset = GradientBoostingClassifier(n_estimators=num_trees)\n",
        "X_all = encoder.fit_transform(X)\n",
        "\n",
        "label_encoder = LabelEncoder()\n",
        "label_encoder.fit(y)\n",
        "\n",
        "y_all = label_encoder.transform(y)\n",
        "\n",
        "gb_all_dataset.fit(X_all, y_all)\n",
        "\n",
        "y_pred_all_model = gb_all_dataset.predict(X_all)\n",
        "\n",
        "print(X.shape, y.shape)\n",
        "print('Acurácia usando toda base: {0:0.4f}'. format(accuracy_score(y_all, y_pred_all_model)))"
      ],
      "metadata": {
        "colab": {
          "base_uri": "https://localhost:8080/"
        },
        "id": "MQTD2J-47Cq_",
        "outputId": "71f442ee-bc63-4d13-b925-25d48a7b44a5"
      },
      "execution_count": 449,
      "outputs": [
        {
          "output_type": "stream",
          "name": "stdout",
          "text": [
            "(30162, 13) (30162,)\n",
            "Acurácia usando toda base: 0.8642\n"
          ]
        }
      ]
    },
    {
      "cell_type": "markdown",
      "source": [
        "Matriz de confusão com toda a base"
      ],
      "metadata": {
        "id": "AzrNN1AL09lJ"
      }
    },
    {
      "cell_type": "code",
      "source": [
        "# Matriz de confusão de toda a base\n",
        "cm_all = confusion_matrix(y_all, y_pred_all_model)\n",
        "\n",
        "TP = cm_all[0,0] # Verdadeiro positivo\n",
        "TN = cm_all[1,1] # Verdadeiro negativo\n",
        "FP = cm_all[0,1] # Falso positivo\n",
        "FN = cm_all[1,0] # Falso negativo\n",
        "\n",
        "print('Confusion matrix\\n\\n', cm_all)\n",
        "\n",
        "print('\\nTrue Positives(TP) = ', TP)\n",
        "\n",
        "print('\\nTrue Negatives(TN) = ', TN)\n",
        "\n",
        "print('\\nFalse Positives(FP) = ', FP)\n",
        "\n",
        "print('\\nFalse Negatives(FN) = ', FN)\n",
        "\n",
        "cm_matrix = pd.DataFrame(data=cm_all, columns=['Atual Positivo:1', 'Atual Negativo:0'],\n",
        "                                 index=['Predição Positivo:1', 'Predição Negativo:0'])\n",
        "\n",
        "sns.heatmap(cm_matrix, annot=True, fmt='d', cmap='YlGnBu')\n"
      ],
      "metadata": {
        "colab": {
          "base_uri": "https://localhost:8080/",
          "height": 667
        },
        "id": "DaHQrgt10d37",
        "outputId": "ed743021-255a-448f-db36-7dad19eed076"
      },
      "execution_count": 450,
      "outputs": [
        {
          "output_type": "stream",
          "name": "stdout",
          "text": [
            "Confusion matrix\n",
            "\n",
            " [[21463  1191]\n",
            " [ 2905  4603]]\n",
            "\n",
            "True Positives(TP) =  21463\n",
            "\n",
            "True Negatives(TN) =  4603\n",
            "\n",
            "False Positives(FP) =  1191\n",
            "\n",
            "False Negatives(FN) =  2905\n"
          ]
        },
        {
          "output_type": "execute_result",
          "data": {
            "text/plain": [
              "<Axes: >"
            ]
          },
          "metadata": {},
          "execution_count": 450
        },
        {
          "output_type": "display_data",
          "data": {
            "text/plain": [
              "<Figure size 640x480 with 2 Axes>"
            ],
            "image/png": "[encoded data removed]"
          },
          "metadata": {}
        }
      ]
    },
    {
      "cell_type": "code",
      "source": [
        "\n",
        "classification_accuracy = (TP + TN) / float(TP + TN + FP + FN)\n",
        "\n",
        "print('\\nAcurácia da classificação : {0:0.4f}'.format(classification_accuracy))\n",
        "\n",
        "classification_error = (FP + FN) / float(TP + TN + FP + FN)\n",
        "\n",
        "print('\\nErro de classificação : {0:0.4f}'.format(classification_error))"
      ],
      "metadata": {
        "colab": {
          "base_uri": "https://localhost:8080/"
        },
        "id": "VrmSik5H19DA",
        "outputId": "f15fc0c8-3c3c-4ddf-d00e-aaa60cc613ae"
      },
      "execution_count": 451,
      "outputs": [
        {
          "output_type": "stream",
          "name": "stdout",
          "text": [
            "\n",
            "Acurácia da classificação : 0.8642\n",
            "\n",
            "Erro de classificação : 0.1358\n"
          ]
        }
      ]
    },
    {
      "cell_type": "markdown",
      "source": [
        "##**9 - Utilizando o Grid Search para localizar os melhores parâmetros**"
      ],
      "metadata": {
        "id": "Zh3DcflA8Hyd"
      }
    },
    {
      "cell_type": "markdown",
      "source": [
        "Neste ensaio usarei o mesmo valor de \"n_stimators\" utilizado ao longo do estudo, que foi a constante 100. A ideia é tentar encontrar melhores parâmetros que possam aumentar o resultado do modelo escolhido."
      ],
      "metadata": {
        "id": "CEhPgmWilbSa"
      }
    },
    {
      "cell_type": "code",
      "source": [
        "# Criando parâmetros scoring\n",
        "scoring = {'accuracy': make_scorer(accuracy_score),\n",
        "           'precision': make_scorer(precision_score),'recall':make_scorer(recall_score)}\n",
        "\n",
        "# Uma amostra de parâmetros\n",
        "parameters = {\n",
        "    #\"loss\":[\"deviance\"],\n",
        "    \"learning_rate\": [0.01, 0.025, 0.05, 0.075, 0.1, 0.15, 0.2],\n",
        "    #\"min_samples_split\": np.linspace(0.1, 0.5, 12),\n",
        "    #\"min_samples_leaf\": np.linspace(0.1, 0.5, 12),\n",
        "    \"max_depth\":[3,5,8],\n",
        "    #\"max_features\":[\"log2\",\"sqrt\"],\n",
        "    #\"criterion\": [\"friedman_mse\",  \"mae\"],\n",
        "    \"subsample\":[0.5, 0.618, 0.8, 0.85, 0.9, 0.95, 1.0],\n",
        "    \"n_estimators\":[100]\n",
        "    }\n",
        "# Passando a função scoring no GridSearchCV\n",
        "cv = GridSearchCV(GradientBoostingClassifier(), parameters,scoring=scoring,refit=False,cv=2, n_jobs=-1)\n",
        "\n",
        "cv.fit(X_train, y_train_lb)\n",
        "\n",
        "# Convertendo o clf.cv_results em dataframe\n",
        "df=pd.DataFrame.from_dict(cv.cv_results_)\n",
        "\n",
        "# Aplicando o cross validation em cv=2, com duas split: split0 and split1\n",
        "df['accuracy_score']=(df['split0_test_accuracy']+df['split1_test_accuracy'])/2\n",
        "# Os melhores parâmetros\n",
        "df.loc[df['accuracy_score'].idxmax()]['params']"
      ],
      "metadata": {
        "colab": {
          "base_uri": "https://localhost:8080/"
        },
        "id": "rQsIvYJS8LIL",
        "outputId": "6566a540-8abd-4b7d-c728-d8435698dba3"
      },
      "execution_count": 452,
      "outputs": [
        {
          "output_type": "execute_result",
          "data": {
            "text/plain": [
              "{'learning_rate': 0.1, 'max_depth': 5, 'n_estimators': 100, 'subsample': 1.0}"
            ]
          },
          "metadata": {},
          "execution_count": 452
        }
      ]
    },
    {
      "cell_type": "markdown",
      "source": [
        "Agora vou utilizar os valores identificados com a utilização do GriSearchCV.\n",
        "\n",
        "learning_rate:0.1\n",
        "\n",
        "max_depth: 5\n",
        "\n",
        "n_estimators: 100\n",
        "\n",
        "subsample: 1.0"
      ],
      "metadata": {
        "id": "WpD1zSNyuXL8"
      }
    },
    {
      "cell_type": "code",
      "source": [
        "clf =GradientBoostingClassifier(\n",
        " learning_rate=0.1,\n",
        " max_depth= 5,\n",
        " n_estimators=100,\n",
        " subsample=1.0)\n",
        "clf.fit(X_train, y_train_lb)\n",
        "y_predict_GridSearchCV = clf.predict(X_test)\n",
        "\n",
        "print(X_test.shape, y_test_lb.shape)\n",
        "print('Acurácia usando os parâmetros do GridSearchCV: {0:0.4f}'. format(accuracy_score(y_test_lb, y_predict_GridSearchCV)))\n",
        "\n",
        "\n",
        "# Matriz de confusão da base de teste\n",
        "cm_all_GridSearchCV = confusion_matrix(y_test_lb, y_predict_GridSearchCV)\n",
        "\n",
        "TP = cm_all_GridSearchCV[0,0] # Verdadeiro positivo\n",
        "TN = cm_all_GridSearchCV[1,1] # Verdadeiro negativo\n",
        "FP = cm_all_GridSearchCV[0,1] # Falso positivo\n",
        "FN = cm_all_GridSearchCV[1,0] # Falso negativo\n",
        "\n",
        "print('Confusion matrix\\n\\n', cm_all_GridSearchCV)\n",
        "\n",
        "print('\\nTrue Positives(TP) = ', TP)\n",
        "\n",
        "print('\\nTrue Negatives(TN) = ', TN)\n",
        "\n",
        "print('\\nFalse Positives(FP) = ', FP)\n",
        "\n",
        "print('\\nFalse Negatives(FN) = ', FN)\n",
        "\n",
        "cm_matrix = pd.DataFrame(data=cm_all_GridSearchCV, columns=['Atual Positivo:1', 'Atual Negativo:0'],\n",
        "                                 index=['Predição Positivo:1', 'Predição Negativo:0'])\n",
        "\n",
        "sns.heatmap(cm_matrix, annot=True, fmt='d', cmap='YlGnBu')\n",
        "\n"
      ],
      "metadata": {
        "colab": {
          "base_uri": "https://localhost:8080/",
          "height": 704
        },
        "id": "oafu_aabrgFw",
        "outputId": "7958e949-2beb-461f-9c97-adb4d2302d07"
      },
      "execution_count": 453,
      "outputs": [
        {
          "output_type": "stream",
          "name": "stdout",
          "text": [
            "(30162, 88) (30162,)\n",
            "Acurácia usando os parâmetros do GridSearchCV: 0.8806\n",
            "Confusion matrix\n",
            "\n",
            " [[21490  1164]\n",
            " [ 2437  5071]]\n",
            "\n",
            "True Positives(TP) =  21490\n",
            "\n",
            "True Negatives(TN) =  5071\n",
            "\n",
            "False Positives(FP) =  1164\n",
            "\n",
            "False Negatives(FN) =  2437\n"
          ]
        },
        {
          "output_type": "execute_result",
          "data": {
            "text/plain": [
              "<Axes: >"
            ]
          },
          "metadata": {},
          "execution_count": 453
        },
        {
          "output_type": "display_data",
          "data": {
            "text/plain": [
              "<Figure size 640x480 with 2 Axes>"
            ],
            "image/png": "[encoded data removed]"
          },
          "metadata": {}
        }
      ]
    },
    {
      "cell_type": "code",
      "source": [
        "classification_accuracy = (TP + TN) / float(TP + TN + FP + FN)\n",
        "\n",
        "print('\\nAcurácia da classificação : {0:0.4f}'.format(classification_accuracy))\n",
        "\n",
        "classification_error = (FP + FN) / float(TP + TN + FP + FN)\n",
        "\n",
        "print('\\nErro de classificação : {0:0.4f}'.format(classification_error))"
      ],
      "metadata": {
        "colab": {
          "base_uri": "https://localhost:8080/"
        },
        "id": "leJR0FgOt104",
        "outputId": "360ae864-186f-4bae-916b-248bbdede1ea"
      },
      "execution_count": 454,
      "outputs": [
        {
          "output_type": "stream",
          "name": "stdout",
          "text": [
            "\n",
            "Acurácia da classificação : 0.8806\n",
            "\n",
            "Erro de classificação : 0.1194\n"
          ]
        }
      ]
    },
    {
      "cell_type": "markdown",
      "source": [
        "##**10 - Conclusão**"
      ],
      "metadata": {
        "id": "xf9MLPbVVhAD"
      }
    },
    {
      "cell_type": "markdown",
      "source": [
        "Após o estudo a escolha do modelo foi o \"GB-orig\"(Gradient Boosting Classifier), cujo modelo demonstrou uma boa precisão em comparação aos modelos testados. Usando a matriz de confusão, 371 foram classsificados com falso positivo e 887 como falso negativo, representando um erro de 13,9% das predições dos dados de teste, ficando dentro da meta a ser alcançada de no máximo 14%.\n",
        "\n",
        "Na aplicação do modelo na base de teste e treinamento não foi encontrado cenário de overfitting, já que os percentuais no treinamento (86,8%) e no teste (86,1%) ficaram equivalentes.\n",
        "\n",
        "Ao aplicar o modelo em toda à base existente, obtive o percentual de acerto de 86,4% e 13,6% de erro na predição.\n",
        "\n",
        "Para refinar o modelo classificatório, recorri ao recurso do GridSearchCV para testar melhores parâmetros para o modelo. No ensaio identifiquei que a utilização dos parâmetros learning_rate:0.1, max_depth: 5, n_estimators: 100 e subsample: 1, permitiriam um ganho de 2% na acurácia da predição, ficando uma taxa de 88%.\n",
        "\n",
        "Esta taxa alcançada se equipara ao ensaio feito pelos Chakrabarty e Biswas que obtiveram 88,16% de precisão de validação em uma divisão de teste de 80-20 usando o modelo Gradient Boosting Classifier.\n",
        "\n",
        "Chakrabarty, N., Biswas, S. (2018). A Statistical Approach to Adult\n",
        "Census Income Level Prediction. arXiv.\n",
        "https://doi.org/10.48550/arXiv.1810.10076"
      ],
      "metadata": {
        "id": "sGZt4BsnVfeZ"
      }
    }
  ]
}